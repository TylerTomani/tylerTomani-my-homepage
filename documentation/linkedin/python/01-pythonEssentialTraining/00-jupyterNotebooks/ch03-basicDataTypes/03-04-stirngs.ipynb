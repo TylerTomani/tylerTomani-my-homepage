{
 "cells": [
  {
   "cell_type": "code",
   "execution_count": null,
   "id": "f5a3c96b",
   "metadata": {},
   "outputs": [],
   "source": []
  },
  {
   "cell_type": "markdown",
   "id": "9f33e714",
   "metadata": {},
   "source": [
    "## slice [:]"
   ]
  },
  {
   "cell_type": "code",
   "execution_count": 22,
   "id": "aba73124",
   "metadata": {},
   "outputs": [
    {
     "name": "stdout",
     "output_type": "stream",
     "text": [
      "[1, 2]\n"
     ]
    }
   ],
   "source": [
    "my_list = [1,2,3,4]\n",
    "print(my_list[0:2])"
   ]
  },
  {
   "cell_type": "code",
   "execution_count": 21,
   "id": "99ffdbdf",
   "metadata": {},
   "outputs": [
    {
     "name": "stdout",
     "output_type": "stream",
     "text": [
      "My\n"
     ]
    }
   ],
   "source": [
    "name = 'My Name is Larry'\n",
    "print(name[0:2])"
   ]
  }
 ],
 "metadata": {
  "kernelspec": {
   "display_name": "Python 3 (ipykernel)",
   "language": "python",
   "name": "python3"
  },
  "language_info": {
   "codemirror_mode": {
    "name": "ipython",
    "version": 3
   },
   "file_extension": ".py",
   "mimetype": "text/x-python",
   "name": "python",
   "nbconvert_exporter": "python",
   "pygments_lexer": "ipython3",
   "version": "3.11.1"
  }
 },
 "nbformat": 4,
 "nbformat_minor": 5
}
