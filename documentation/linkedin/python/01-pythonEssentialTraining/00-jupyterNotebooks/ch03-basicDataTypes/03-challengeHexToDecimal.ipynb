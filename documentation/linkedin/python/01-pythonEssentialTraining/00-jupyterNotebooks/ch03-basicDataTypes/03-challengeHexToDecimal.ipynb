{
 "cells": [
  {
   "cell_type": "code",
   "execution_count": 5,
   "id": "f4faada9",
   "metadata": {},
   "outputs": [],
   "source": [
    "hexNumbers = {\n",
    "    '0': 0 , '1': 1, '2': 2, '3' : 3, '4' : 4, '5': 5, '6': 6, '7' : 7, '8': 8,\n",
    "    '9': 9, 'A': 10, 'B': 11, 'C': 12, 'D' : 13, 'E': 14, 'F': 15\n",
    "}"
   ]
  },
  {
   "cell_type": "code",
   "execution_count": 19,
   "id": "2a4ebc80",
   "metadata": {},
   "outputs": [],
   "source": [
    "def hexToDec(hexNum):    \n",
    "    for char in hexNum:\n",
    "        if char not in hexNumbers:\n",
    "            return None\n",
    "\n",
    "        if len(hexNum) == 3:\n",
    "            return hexNumbers[hexNum[0]] * 256 + hexNumbers[hexNum[1]] * 16 + hexNumbers[hexNum[2]] \n",
    "        if len(hexNum == 2):\n",
    "            return hexNumbers[hexNum[0]] * 16 + hexNumbers[hexNum2]\n",
    "        if len(hexNum == 1):\n",
    "            return hexNumbers[hexNum[0]]"
   ]
  },
  {
   "cell_type": "code",
   "execution_count": 21,
   "id": "070e18e0",
   "metadata": {},
   "outputs": [
    {
     "data": {
      "text/plain": [
       "2748"
      ]
     },
     "execution_count": 21,
     "metadata": {},
     "output_type": "execute_result"
    }
   ],
   "source": [
    "hexToDec('ABC')"
   ]
  },
  {
   "cell_type": "code",
   "execution_count": 23,
   "id": "2209f00b",
   "metadata": {},
   "outputs": [],
   "source": [
    "hexNumbers = {\n",
    "    '0': 0 , '1': 1, '2': 2, '3' : 3, '4' : 4, '5': 5, '6': 6, '7' : 7,\n",
    "    '8': 8, '9': 9, 'A': 10, 'B': 11, 'C': 12, 'D' : 13, 'E': 14, 'F': 15\n",
    "}\n",
    "def hexToDec(hexNum):\n",
    "    for char in hexNum:\n",
    "        if char not in hexNumbers:\n",
    "            return None\n",
    "    exponent = 0\n",
    "    decimal = 0\n",
    "    for char in hexNum[::-1]:\n",
    "        decimal = decimal + hexNumbers[char] + (16 ** exponent)\n",
    "        exponent = exponent + 1\n",
    "    return decimal\n",
    "\n",
    "                "
   ]
  },
  {
   "cell_type": "code",
   "execution_count": 24,
   "id": "5e9c9747",
   "metadata": {},
   "outputs": [
    {
     "data": {
      "text/plain": [
       "4421"
      ]
     },
     "execution_count": 24,
     "metadata": {},
     "output_type": "execute_result"
    }
   ],
   "source": [
    "hexToDec('AFDE')"
   ]
  }
 ],
 "metadata": {
  "kernelspec": {
   "display_name": "Python 3 (ipykernel)",
   "language": "python",
   "name": "python3"
  },
  "language_info": {
   "codemirror_mode": {
    "name": "ipython",
    "version": 3
   },
   "file_extension": ".py",
   "mimetype": "text/x-python",
   "name": "python",
   "nbconvert_exporter": "python",
   "pygments_lexer": "ipython3",
   "version": "3.11.1"
  }
 },
 "nbformat": 4,
 "nbformat_minor": 5
}
