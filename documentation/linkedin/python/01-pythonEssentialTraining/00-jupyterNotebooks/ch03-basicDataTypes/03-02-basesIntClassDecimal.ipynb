{
 "cells": [
  {
   "cell_type": "code",
   "execution_count": 9,
   "id": "f0734501",
   "metadata": {},
   "outputs": [],
   "source": [
    "from decimal import Decimal, getcontext"
   ]
  },
  {
   "cell_type": "code",
   "execution_count": 39,
   "id": "097e198d",
   "metadata": {},
   "outputs": [
    {
     "name": "stdout",
     "output_type": "stream",
     "text": [
      "Context(prec=6, rounding=ROUND_HALF_EVEN, Emin=-999999, Emax=999999, capitals=1, clamp=0, flags=[Inexact, Rounded], traps=[InvalidOperation, DivisionByZero, Overflow])\n"
     ]
    }
   ],
   "source": [
    "print(getcontext())"
   ]
  },
  {
   "cell_type": "code",
   "execution_count": 36,
   "id": "a856ead8",
   "metadata": {},
   "outputs": [],
   "source": [
    "getcontext().prec=6"
   ]
  },
  {
   "cell_type": "code",
   "execution_count": 41,
   "id": "6e6cfb72",
   "metadata": {},
   "outputs": [
    {
     "name": "stdout",
     "output_type": "stream",
     "text": [
      "0.200000\n"
     ]
    }
   ],
   "source": [
    "print(Decimal(1.2) - Decimal(1))"
   ]
  },
  {
   "cell_type": "code",
   "execution_count": 18,
   "id": "ee4fa19a",
   "metadata": {},
   "outputs": [
    {
     "name": "stdout",
     "output_type": "stream",
     "text": [
      "0.3333\n"
     ]
    }
   ],
   "source": [
    "print(Decimal(1) / Decimal(3))"
   ]
  },
  {
   "cell_type": "code",
   "execution_count": 14,
   "id": "faac92c1",
   "metadata": {},
   "outputs": [
    {
     "name": "stdout",
     "output_type": "stream",
     "text": [
      "0.19999999999999996\n"
     ]
    }
   ],
   "source": [
    "print(1.2 - 1)"
   ]
  },
  {
   "cell_type": "code",
   "execution_count": 11,
   "id": "68f405c9",
   "metadata": {},
   "outputs": [
    {
     "name": "stdout",
     "output_type": "stream",
     "text": [
      "Context(prec=28, rounding=ROUND_HALF_EVEN, Emin=-999999, Emax=999999, capitals=1, clamp=0, flags=[], traps=[InvalidOperation, DivisionByZero, Overflow])\n"
     ]
    }
   ],
   "source": [
    "print(getcontext())"
   ]
  },
  {
   "cell_type": "markdown",
   "id": "1b3d7954",
   "metadata": {},
   "source": [
    "## binary to base 10"
   ]
  },
  {
   "cell_type": "code",
   "execution_count": 7,
   "id": "c34a355e",
   "metadata": {},
   "outputs": [
    {
     "name": "stdout",
     "output_type": "stream",
     "text": [
      "1\n",
      "10\n",
      "100\n"
     ]
    }
   ],
   "source": [
    "print(int('0001',10))\n",
    "print(int('0010',10))\n",
    "print(int('0100',10))"
   ]
  },
  {
   "cell_type": "markdown",
   "id": "85509b42",
   "metadata": {},
   "source": [
    "## base 10 to binary"
   ]
  },
  {
   "cell_type": "code",
   "execution_count": 6,
   "id": "6c887253",
   "metadata": {},
   "outputs": [
    {
     "name": "stdout",
     "output_type": "stream",
     "text": [
      "1\n",
      "2\n",
      "4\n"
     ]
    }
   ],
   "source": [
    "print(int('0001',2))\n",
    "print(int('0010',2))\n",
    "print(int('0100',2))"
   ]
  },
  {
   "cell_type": "code",
   "execution_count": 4,
   "id": "86ef8b36",
   "metadata": {},
   "outputs": [
    {
     "name": "stdout",
     "output_type": "stream",
     "text": [
      "10\n"
     ]
    }
   ],
   "source": [
    "print(int('0010',10))"
   ]
  }
 ],
 "metadata": {
  "kernelspec": {
   "display_name": "Python 3 (ipykernel)",
   "language": "python",
   "name": "python3"
  },
  "language_info": {
   "codemirror_mode": {
    "name": "ipython",
    "version": 3
   },
   "file_extension": ".py",
   "mimetype": "text/x-python",
   "name": "python",
   "nbconvert_exporter": "python",
   "pygments_lexer": "ipython3",
   "version": "3.11.1"
  }
 },
 "nbformat": 4,
 "nbformat_minor": 5
}
