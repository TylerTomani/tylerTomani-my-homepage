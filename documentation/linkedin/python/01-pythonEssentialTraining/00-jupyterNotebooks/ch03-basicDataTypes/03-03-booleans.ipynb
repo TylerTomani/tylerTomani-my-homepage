{
 "cells": [
  {
   "cell_type": "code",
   "execution_count": 39,
   "id": "d72e5bee",
   "metadata": {},
   "outputs": [
    {
     "name": "stdout",
     "output_type": "stream",
     "text": [
      "go for walk\n"
     ]
    }
   ],
   "source": [
    "weatherIsNice = True\n",
    "haveUmbrella = False\n",
    "if not haveUmbrella or weatheIsNice:\n",
    "    print('go for walk')\n",
    "else:\n",
    "    print('stay inside')"
   ]
  },
  {
   "cell_type": "code",
   "execution_count": 20,
   "id": "9b5fed39",
   "metadata": {},
   "outputs": [
    {
     "name": "stdout",
     "output_type": "stream",
     "text": [
      "True\n"
     ]
    }
   ],
   "source": [
    "a = 5\n",
    "b = 5\n",
    "print(a == b)"
   ]
  },
  {
   "cell_type": "code",
   "execution_count": 17,
   "id": "97876f59",
   "metadata": {},
   "outputs": [
    {
     "name": "stdout",
     "output_type": "stream",
     "text": [
      "a - b is 0 and equal\n"
     ]
    }
   ],
   "source": [
    "a = 5 \n",
    "b = 5\n",
    "if a - b:\n",
    "    print('not equal')\n",
    "print('a - b is 0 and equal')"
   ]
  },
  {
   "cell_type": "code",
   "execution_count": 8,
   "id": "d7c31038",
   "metadata": {},
   "outputs": [
    {
     "name": "stdout",
     "output_type": "stream",
     "text": [
      "go for walk\n",
      "False\n"
     ]
    }
   ],
   "source": [
    "weatheIsNice = False\n",
    "haveUmbrella = True\n",
    "if not haveUmbrella or weatheIsNice:\n",
    "    print('stay inside')\n",
    "else:\n",
    "    print('go for walk')\n",
    "print(not haveUmbrella)"
   ]
  },
  {
   "cell_type": "code",
   "execution_count": 4,
   "id": "967cb3df",
   "metadata": {},
   "outputs": [
    {
     "name": "stdout",
     "output_type": "stream",
     "text": [
      "this is true\n"
     ]
    }
   ],
   "source": [
    "my_list = [1,2,3,4]\n",
    "if bool(my_list):\n",
    "    print('this is true')"
   ]
  },
  {
   "cell_type": "code",
   "execution_count": 3,
   "id": "c87386d8",
   "metadata": {},
   "outputs": [
    {
     "name": "stdout",
     "output_type": "stream",
     "text": [
      "true\n"
     ]
    }
   ],
   "source": [
    "my_list = [1,2,3,4]\n",
    "if my_list:\n",
    "    print('true')"
   ]
  },
  {
   "cell_type": "markdown",
   "id": "ddf2dceb",
   "metadata": {},
   "source": [
    "## imaginary j and float zero"
   ]
  },
  {
   "cell_type": "code",
   "execution_count": 1,
   "id": "6f99b8b8",
   "metadata": {},
   "outputs": [
    {
     "data": {
      "text/plain": [
       "False"
      ]
     },
     "execution_count": 1,
     "metadata": {},
     "output_type": "execute_result"
    }
   ],
   "source": [
    "bool(0j)"
   ]
  },
  {
   "cell_type": "code",
   "execution_count": 2,
   "id": "954d77f6",
   "metadata": {},
   "outputs": [
    {
     "data": {
      "text/plain": [
       "False"
      ]
     },
     "execution_count": 2,
     "metadata": {},
     "output_type": "execute_result"
    }
   ],
   "source": [
    "bool(0.0)"
   ]
  }
 ],
 "metadata": {
  "kernelspec": {
   "display_name": "Python 3 (ipykernel)",
   "language": "python",
   "name": "python3"
  },
  "language_info": {
   "codemirror_mode": {
    "name": "ipython",
    "version": 3
   },
   "file_extension": ".py",
   "mimetype": "text/x-python",
   "name": "python",
   "nbconvert_exporter": "python",
   "pygments_lexer": "ipython3",
   "version": "3.11.1"
  }
 },
 "nbformat": 4,
 "nbformat_minor": 5
}
