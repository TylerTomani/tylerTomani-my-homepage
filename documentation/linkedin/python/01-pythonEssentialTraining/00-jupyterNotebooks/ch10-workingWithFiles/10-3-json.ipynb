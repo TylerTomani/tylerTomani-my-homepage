{
 "cells": [
  {
   "cell_type": "code",
   "execution_count": 32,
   "id": "57949cce",
   "metadata": {},
   "outputs": [
    {
     "name": "stdout",
     "output_type": "stream",
     "text": [
      "{\"a\": \"ardvark\", \"b\": \"bear\", \"c\": \"cat\"}\n"
     ]
    }
   ],
   "source": [
    "import json\n",
    "from json import JSONDecodeError,JSONEncoder\n",
    "\n",
    "class Animal:\n",
    "    def __init__(self,name):\n",
    "        self.name = name\n",
    "class AnimalEncoder(JSONEncoder):\n",
    "    def default(self,o):\n",
    "        if type(o) == Animal:\n",
    "            return o.name\n",
    "        return super().default(o)\n",
    "pythonDict = {'a':Animal('ardvark'),'b':Animal('bear'),'c':Animal('cat')}\n",
    "jsonStr = json.dumps(pythonDict, cls=AnimalEncoder)                \n",
    "print(jsonStr)"
   ]
  }
 ],
 "metadata": {
  "kernelspec": {
   "display_name": "Python 3 (ipykernel)",
   "language": "python",
   "name": "python3"
  },
  "language_info": {
   "codemirror_mode": {
    "name": "ipython",
    "version": 3
   },
   "file_extension": ".py",
   "mimetype": "text/x-python",
   "name": "python",
   "nbconvert_exporter": "python",
   "pygments_lexer": "ipython3",
   "version": "3.11.1"
  }
 },
 "nbformat": 4,
 "nbformat_minor": 5
}
