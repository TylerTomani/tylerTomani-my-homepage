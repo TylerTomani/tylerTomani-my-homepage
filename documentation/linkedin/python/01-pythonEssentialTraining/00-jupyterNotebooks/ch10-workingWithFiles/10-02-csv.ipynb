{
 "cells": [
  {
   "cell_type": "code",
   "execution_count": 51,
   "id": "e74848a5",
   "metadata": {},
   "outputs": [],
   "source": [
    "import csv\n",
    "\n",
    "with open('../10_02_us.csv','r') as f:\n",
    "    data = list(csv.DictReader(f, delimiter='\\t'))\n",
    "        \n",
    "primes = []\n",
    "for n in range(2,99999):\n",
    "    for factor in range(2,int(n ** 0.5)):\n",
    "        if n % factor == 0:\n",
    "            break\n",
    "    else: \n",
    "        primes.append(n)\n",
    "        \n",
    "data = [row for row in data if (int(row['postal code'])) and row['state code'] == 'NY']\n",
    "len(data)\n",
    "\n",
    "with open('nyPrime.csv','w') as f:\n",
    "    writer = csv.writer(f)\n",
    "    for row in data:\n",
    "        writer.writerow([row['place name'], row['county']])"
   ]
  }
 ],
 "metadata": {
  "kernelspec": {
   "display_name": "Python 3 (ipykernel)",
   "language": "python",
   "name": "python3"
  },
  "language_info": {
   "codemirror_mode": {
    "name": "ipython",
    "version": 3
   },
   "file_extension": ".py",
   "mimetype": "text/x-python",
   "name": "python",
   "nbconvert_exporter": "python",
   "pygments_lexer": "ipython3",
   "version": "3.11.1"
  }
 },
 "nbformat": 4,
 "nbformat_minor": 5
}
