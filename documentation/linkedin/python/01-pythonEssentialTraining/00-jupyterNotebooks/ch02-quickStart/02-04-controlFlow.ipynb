{
 "cells": [
  {
   "cell_type": "markdown",
   "id": "d90831d3",
   "metadata": {},
   "source": [
    "## Control Flow"
   ]
  },
  {
   "cell_type": "markdown",
   "id": "2a966db9",
   "metadata": {},
   "source": [
    "### if / else"
   ]
  },
  {
   "cell_type": "code",
   "execution_count": 5,
   "id": "b81be2da",
   "metadata": {},
   "outputs": [
    {
     "name": "stdout",
     "output_type": "stream",
     "text": [
      "a is true\n",
      "a and b are true\n",
      "all true\n",
      "but all okay\n"
     ]
    }
   ],
   "source": [
    "a = True\n",
    "b = True\n",
    "c = True\n",
    "if a:\n",
    "    print('a is true')\n",
    "    if b:\n",
    "        print('a and b are true')\n",
    "        if c:\n",
    "            print('all true')\n",
    "else:\n",
    "    print('nothing is true')\n",
    "print('but all okay')"
   ]
  },
  {
   "cell_type": "markdown",
   "id": "c53c55ba",
   "metadata": {},
   "source": [
    "### for loop"
   ]
  },
  {
   "cell_type": "code",
   "execution_count": 7,
   "id": "27980ebd",
   "metadata": {},
   "outputs": [
    {
     "name": "stdout",
     "output_type": "stream",
     "text": [
      "1\n",
      "2\n",
      "3\n",
      "4\n"
     ]
    }
   ],
   "source": [
    "my_list = [1,2,3,4]\n",
    "for item in my_list:\n",
    "    print(item)"
   ]
  },
  {
   "cell_type": "markdown",
   "id": "09bc06c4",
   "metadata": {},
   "source": [
    "### while loop"
   ]
  },
  {
   "cell_type": "code",
   "execution_count": 9,
   "id": "0354f77d",
   "metadata": {},
   "outputs": [
    {
     "name": "stdout",
     "output_type": "stream",
     "text": [
      "0\n",
      "1\n",
      "2\n",
      "3\n",
      "4\n"
     ]
    }
   ],
   "source": [
    "a = 0\n",
    "while a < 5:\n",
    "    print(a)\n",
    "    a = a + 1\n",
    "    "
   ]
  }
 ],
 "metadata": {
  "kernelspec": {
   "display_name": "Python 3 (ipykernel)",
   "language": "python",
   "name": "python3"
  },
  "language_info": {
   "codemirror_mode": {
    "name": "ipython",
    "version": 3
   },
   "file_extension": ".py",
   "mimetype": "text/x-python",
   "name": "python",
   "nbconvert_exporter": "python",
   "pygments_lexer": "ipython3",
   "version": "3.11.1"
  }
 },
 "nbformat": 4,
 "nbformat_minor": 5
}
