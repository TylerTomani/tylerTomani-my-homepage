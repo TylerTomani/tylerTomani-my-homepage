{
 "cells": [
  {
   "cell_type": "code",
   "execution_count": 8,
   "id": "9824528d",
   "metadata": {},
   "outputs": [
    {
     "name": "stdout",
     "output_type": "stream",
     "text": [
      "Roxy say bark bark\n",
      "wagging tail\n"
     ]
    }
   ],
   "source": [
    "class Chihuahua(Dog):\n",
    "    def speak(self):\n",
    "        print(f'{self.name} say bark bark')\n",
    "    def wagTail(self):\n",
    "        print('wagging tail')\n",
    "dog = Chihuahua('Roxy')\n",
    "dog.speak()\n",
    "dog.wagTail()"
   ]
  },
  {
   "cell_type": "code",
   "execution_count": 2,
   "id": "78a8bd53",
   "metadata": {},
   "outputs": [
    {
     "name": "stdout",
     "output_type": "stream",
     "text": [
      "Rover says Bark!\n",
      "Rover has 4 legs\n"
     ]
    }
   ],
   "source": [
    "class Dog:\n",
    "    _legs = 4\n",
    "    def __init__(self,name):\n",
    "        self.name = name\n",
    "    def speak(self):\n",
    "        print(f'{self.name} says Bark!')\n",
    "    def getLegs(self):\n",
    "        print(f'{self.name} has {Dog._legs} legs')\n",
    "myDog = Dog('Rover')\n",
    "myDog.speak()\n",
    "myDog.getLegs()"
   ]
  }
 ],
 "metadata": {
  "kernelspec": {
   "display_name": "Python 3 (ipykernel)",
   "language": "python",
   "name": "python3"
  },
  "language_info": {
   "codemirror_mode": {
    "name": "ipython",
    "version": 3
   },
   "file_extension": ".py",
   "mimetype": "text/x-python",
   "name": "python",
   "nbconvert_exporter": "python",
   "pygments_lexer": "ipython3",
   "version": "3.11.1"
  }
 },
 "nbformat": 4,
 "nbformat_minor": 5
}
