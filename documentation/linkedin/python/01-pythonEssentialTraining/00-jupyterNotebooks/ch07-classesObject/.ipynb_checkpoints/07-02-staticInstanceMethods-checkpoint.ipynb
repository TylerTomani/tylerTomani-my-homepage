{
 "cells": [
  {
   "cell_type": "code",
   "execution_count": 49,
   "id": "356dadaa",
   "metadata": {},
   "outputs": [
    {
     "name": "stdout",
     "output_type": "stream",
     "text": [
      "{'words', 'some', 'these', 'more', 'are'}\n"
     ]
    }
   ],
   "source": [
    "class WordSet:\n",
    "    puncs = ['!','?']\n",
    "    def __init__(self):\n",
    "        self.words = set()\n",
    "    def addTxt(self,txt):\n",
    "        txt = self.cleanTxt(txt)\n",
    "        for word in txt.split():\n",
    "            self.words.add(word)\n",
    "    @staticmethod\n",
    "    def cleanTxt(txt):\n",
    "        for punc in WordSet.puncs:\n",
    "            txt = txt.replace(punc,'')\n",
    "        return txt.lower()\n",
    "wordSet = WordSet()\n",
    "wordSet.addTxt('? These are some!! words?')\n",
    "wordSet.addTxt('!!!! These are more words!?!')\n",
    "print(wordSet.words)\n",
    "                "
   ]
  }
 ],
 "metadata": {
  "kernelspec": {
   "display_name": "Python 3 (ipykernel)",
   "language": "python",
   "name": "python3"
  },
  "language_info": {
   "codemirror_mode": {
    "name": "ipython",
    "version": 3
   },
   "file_extension": ".py",
   "mimetype": "text/x-python",
   "name": "python",
   "nbconvert_exporter": "python",
   "pygments_lexer": "ipython3",
   "version": "3.11.1"
  }
 },
 "nbformat": 4,
 "nbformat_minor": 5
}
