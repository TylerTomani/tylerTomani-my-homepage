{
 "cells": [
  {
   "cell_type": "code",
   "execution_count": 25,
   "id": "9249521a",
   "metadata": {},
   "outputs": [
    {
     "name": "stdout",
     "output_type": "stream",
     "text": [
      "4\n",
      "Rover\n",
      "3\n",
      "3\n"
     ]
    }
   ],
   "source": [
    "class Dog:\n",
    "    _legs = 4\n",
    "    def __init__(self,name):\n",
    "        self.name = name\n",
    "    def getLegs(self):\n",
    "        return self._legs\n",
    "    def speak(self):\n",
    "        return self.name + 'says Bark'\n",
    "myDog = Dog('Rover')\n",
    "myDog._legs = 3\n",
    "print(Dog._legs)\n",
    "print(myDog.name)\n",
    "print(myDog._legs)\n",
    "print(myDog.getLegs())\n",
    "            "
   ]
  }
 ],
 "metadata": {
  "kernelspec": {
   "display_name": "Python 3 (ipykernel)",
   "language": "python",
   "name": "python3"
  },
  "language_info": {
   "codemirror_mode": {
    "name": "ipython",
    "version": 3
   },
   "file_extension": ".py",
   "mimetype": "text/x-python",
   "name": "python",
   "nbconvert_exporter": "python",
   "pygments_lexer": "ipython3",
   "version": "3.11.1"
  }
 },
 "nbformat": 4,
 "nbformat_minor": 5
}
