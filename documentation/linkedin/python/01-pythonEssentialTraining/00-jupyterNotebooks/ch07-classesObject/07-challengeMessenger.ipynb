{
 "cells": [
  {
   "cell_type": "code",
   "execution_count": 3,
   "id": "0cf31cd5",
   "metadata": {},
   "outputs": [],
   "source": [
    "from datetime import datetime\n",
    "def getCurrentTime():\n",
    "    return datetime.now().strftime('%m-%d-%Y %H:%M:%S')"
   ]
  },
  {
   "cell_type": "code",
   "execution_count": 28,
   "id": "d072f82e",
   "metadata": {},
   "outputs": [],
   "source": [
    "class Messenger:\n",
    "    def __init__(self, listeners=[]):\n",
    "        self.listeners = listeners\n",
    "    def send(self,message):\n",
    "        for listener in self.listeners:\n",
    "            listener.receive(message)\n",
    "    def receive(self,message):\n",
    "        pass"
   ]
  },
  {
   "cell_type": "code",
   "execution_count": 31,
   "id": "eaca54a6",
   "metadata": {},
   "outputs": [],
   "source": [
    "class SaveMessages(Messenger):\n",
    "        def __init__(self,listeners=[]):\n",
    "#             I don't get the listeners in init() below\n",
    "            super().__init__(listeners)\n",
    "            self.messages = []\n",
    "        def receive(self,message):\n",
    "            self.messages.append({'message':message, 'time': getCurrentTime()})\n",
    "        def printMessage(self):\n",
    "            for m in self.messages:\n",
    "                print(f'Message: \"{m[\"message\"]}\" Time: {m[\"time\"]}')\n",
    "            self.messages = []"
   ]
  },
  {
   "cell_type": "code",
   "execution_count": 35,
   "id": "4cbc419a",
   "metadata": {},
   "outputs": [
    {
     "name": "stdout",
     "output_type": "stream",
     "text": [
      "Message: \"Hello I dont get how this works\" Time: 04-10-2023 16:48:03\n",
      "Message: \"Still Don't know\" Time: 04-10-2023 16:48:03\n",
      "Message: \"What's going on??\" Time: 04-10-2023 16:48:03\n"
     ]
    }
   ],
   "source": [
    "listener = SaveMessages()\n",
    "sender = Messenger([listener])\n",
    "sender.send('Hello I dont get how this works')\n",
    "sender.send('Still Don\\'t know')\n",
    "sender.send('What\\'s going on??')\n",
    "listener.printMessage()\n"
   ]
  }
 ],
 "metadata": {
  "kernelspec": {
   "display_name": "Python 3 (ipykernel)",
   "language": "python",
   "name": "python3"
  },
  "language_info": {
   "codemirror_mode": {
    "name": "ipython",
    "version": 3
   },
   "file_extension": ".py",
   "mimetype": "text/x-python",
   "name": "python",
   "nbconvert_exporter": "python",
   "pygments_lexer": "ipython3",
   "version": "3.11.1"
  }
 },
 "nbformat": 4,
 "nbformat_minor": 5
}
