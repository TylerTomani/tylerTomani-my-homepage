{
 "cells": [
  {
   "cell_type": "code",
   "execution_count": 52,
   "id": "7536de89",
   "metadata": {},
   "outputs": [
    {
     "name": "stdout",
     "output_type": "stream",
     "text": [
      "{'a', 'b', 'c'}\n",
      "a\n",
      "b\n",
      "c\n",
      "set()\n"
     ]
    }
   ],
   "source": [
    "mySet = {'a','b','c'}\n",
    "print(mySet)\n",
    "while len(mySet):\n",
    "    print(mySet.pop())\n",
    "print(mySet)"
   ]
  },
  {
   "cell_type": "code",
   "execution_count": 17,
   "id": "77ac56fc",
   "metadata": {},
   "outputs": [
    {
     "data": {
      "text/plain": [
       "{'a', 'b', 'c', 'd'}"
      ]
     },
     "execution_count": 17,
     "metadata": {},
     "output_type": "execute_result"
    }
   ],
   "source": [
    "mySet = {'a','b','c'}\n",
    "mySet.add('d')\n",
    "mySet"
   ]
  },
  {
   "cell_type": "markdown",
   "id": "a5f5db2e",
   "metadata": {},
   "source": [
    "## Remove Duplicates in list with set()"
   ]
  },
  {
   "cell_type": "code",
   "execution_count": 7,
   "id": "2c24d9ef",
   "metadata": {},
   "outputs": [
    {
     "data": {
      "text/plain": [
       "['a', 'b', 'c']"
      ]
     },
     "execution_count": 7,
     "metadata": {},
     "output_type": "execute_result"
    }
   ],
   "source": [
    "myList = ['a','a','b','b','c']\n",
    "unique = list(set(myList))\n",
    "unique"
   ]
  },
  {
   "cell_type": "markdown",
   "id": "3049c9ca",
   "metadata": {},
   "source": [
    "## convert list to set"
   ]
  },
  {
   "cell_type": "code",
   "execution_count": 2,
   "id": "05cd333c",
   "metadata": {},
   "outputs": [
    {
     "data": {
      "text/plain": [
       "{1, 2, 3, 4}"
      ]
     },
     "execution_count": 2,
     "metadata": {},
     "output_type": "execute_result"
    }
   ],
   "source": [
    "my_list = [1,2,3,4]\n",
    "listToSet = set(my_list)\n",
    "listToSet"
   ]
  }
 ],
 "metadata": {
  "kernelspec": {
   "display_name": "Python 3 (ipykernel)",
   "language": "python",
   "name": "python3"
  },
  "language_info": {
   "codemirror_mode": {
    "name": "ipython",
    "version": 3
   },
   "file_extension": ".py",
   "mimetype": "text/x-python",
   "name": "python",
   "nbconvert_exporter": "python",
   "pygments_lexer": "ipython3",
   "version": "3.11.1"
  }
 },
 "nbformat": 4,
 "nbformat_minor": 5
}
