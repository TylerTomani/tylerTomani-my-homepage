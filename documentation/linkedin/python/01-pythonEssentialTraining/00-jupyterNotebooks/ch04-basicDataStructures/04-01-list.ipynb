{
 "cells": [
  {
   "cell_type": "markdown",
   "id": "5404ea45",
   "metadata": {},
   "source": [
    "## modify memory"
   ]
  },
  {
   "cell_type": "code",
   "execution_count": 56,
   "id": "50719456",
   "metadata": {},
   "outputs": [
    {
     "data": {
      "text/plain": [
       "[1, 2, 3, 4]"
      ]
     },
     "execution_count": 56,
     "metadata": {},
     "output_type": "execute_result"
    }
   ],
   "source": [
    "a = [1,2,3,4]\n",
    "b = a.copy()\n",
    "b.append(5)\n",
    "a"
   ]
  },
  {
   "cell_type": "markdown",
   "id": "ada2f112",
   "metadata": {},
   "source": [
    "## insert() and remove()"
   ]
  },
  {
   "cell_type": "code",
   "execution_count": 51,
   "id": "0a018226",
   "metadata": {},
   "outputs": [
    {
     "name": "stdout",
     "output_type": "stream",
     "text": [
      "[1, 2, 'a value', 3, 4]\n"
     ]
    }
   ],
   "source": [
    "myList = list(range(1,5))\n",
    "myList.insert(2,'a value')\n",
    "print(myList)"
   ]
  },
  {
   "cell_type": "code",
   "execution_count": 52,
   "id": "afab644c",
   "metadata": {},
   "outputs": [
    {
     "data": {
      "text/plain": [
       "[1, 2, 3, 4]"
      ]
     },
     "execution_count": 52,
     "metadata": {},
     "output_type": "execute_result"
    }
   ],
   "source": [
    "myList.remove('a value')\n",
    "myList"
   ]
  },
  {
   "cell_type": "markdown",
   "id": "6ffb50fd",
   "metadata": {},
   "source": [
    "## range(start,how many?,increment)"
   ]
  },
  {
   "cell_type": "code",
   "execution_count": 27,
   "id": "91f28a8a",
   "metadata": {},
   "outputs": [
    {
     "data": {
      "text/plain": [
       "[1, 4, 7]"
      ]
     },
     "execution_count": 27,
     "metadata": {},
     "output_type": "execute_result"
    }
   ],
   "source": [
    "my_list = list(range(1,9))\n",
    "my_list[::3]"
   ]
  },
  {
   "cell_type": "code",
   "execution_count": 25,
   "id": "cbaad074",
   "metadata": {},
   "outputs": [
    {
     "data": {
      "text/plain": [
       "[1, 2, 3, 4, 5, 6, 7, 8]"
      ]
     },
     "execution_count": 25,
     "metadata": {},
     "output_type": "execute_result"
    }
   ],
   "source": [
    "my_list = list(range(1,9))\n",
    "my_list"
   ]
  },
  {
   "cell_type": "code",
   "execution_count": 16,
   "id": "b3ec9b89",
   "metadata": {},
   "outputs": [
    {
     "data": {
      "text/plain": [
       "[1, 4, 7]"
      ]
     },
     "execution_count": 16,
     "metadata": {},
     "output_type": "execute_result"
    }
   ],
   "source": [
    "my_list = []\n",
    "for i in range(8):\n",
    "    i = i + 1\n",
    "    my_list.append(i)\n",
    "my_list[::3]"
   ]
  },
  {
   "cell_type": "code",
   "execution_count": 18,
   "id": "55639e6c",
   "metadata": {},
   "outputs": [
    {
     "data": {
      "text/plain": [
       "[1, 2, 3, 4, 5]"
      ]
     },
     "execution_count": 18,
     "metadata": {},
     "output_type": "execute_result"
    }
   ],
   "source": [
    "my_list = [1,2,3,4,5]\n",
    "my_list[::]"
   ]
  }
 ],
 "metadata": {
  "kernelspec": {
   "display_name": "Python 3 (ipykernel)",
   "language": "python",
   "name": "python3"
  },
  "language_info": {
   "codemirror_mode": {
    "name": "ipython",
    "version": 3
   },
   "file_extension": ".py",
   "mimetype": "text/x-python",
   "name": "python",
   "nbconvert_exporter": "python",
   "pygments_lexer": "ipython3",
   "version": "3.11.1"
  }
 },
 "nbformat": 4,
 "nbformat_minor": 5
}
