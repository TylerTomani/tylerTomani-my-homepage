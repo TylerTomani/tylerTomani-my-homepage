{
 "cells": [
  {
   "cell_type": "code",
   "execution_count": 4,
   "id": "b8d96025",
   "metadata": {},
   "outputs": [
    {
     "data": {
      "text/plain": [
       "dict_keys(['a', 'b', 'c'])"
      ]
     },
     "execution_count": 4,
     "metadata": {},
     "output_type": "execute_result"
    }
   ],
   "source": [
    "animals = {\n",
    "    'a': 'antelop',\n",
    "    'b': 'bear',\n",
    "    'c': 'cat'\n",
    "}\n",
    "animals.keys()"
   ]
  },
  {
   "cell_type": "code",
   "execution_count": 7,
   "id": "315bba2f",
   "metadata": {},
   "outputs": [],
   "source": [
    "animals['d'] = 'dog'"
   ]
  },
  {
   "cell_type": "code",
   "execution_count": 9,
   "id": "7117f494",
   "metadata": {},
   "outputs": [
    {
     "data": {
      "text/plain": [
       "{'a': 'antelop', 'b': 'bear', 'c': 'cat', 'd': 'dog'}"
      ]
     },
     "execution_count": 9,
     "metadata": {},
     "output_type": "execute_result"
    }
   ],
   "source": [
    "animals"
   ]
  },
  {
   "cell_type": "code",
   "execution_count": 10,
   "id": "654bdcef",
   "metadata": {},
   "outputs": [
    {
     "data": {
      "text/plain": [
       "4"
      ]
     },
     "execution_count": 10,
     "metadata": {},
     "output_type": "execute_result"
    }
   ],
   "source": [
    "len(animals)"
   ]
  },
  {
   "cell_type": "code",
   "execution_count": 12,
   "id": "c03ae776",
   "metadata": {},
   "outputs": [
    {
     "data": {
      "text/plain": [
       "['a', 'b', 'c', 'd']"
      ]
     },
     "execution_count": 12,
     "metadata": {},
     "output_type": "execute_result"
    }
   ],
   "source": [
    "dictList = list(animals.keys())\n",
    "dictList"
   ]
  },
  {
   "cell_type": "code",
   "execution_count": 15,
   "id": "752e35d0",
   "metadata": {},
   "outputs": [
    {
     "data": {
      "text/plain": [
       "{'a': 'antelop', 'b': 'bear', 'c': 'cat', 'd': 'dog'}"
      ]
     },
     "execution_count": 15,
     "metadata": {},
     "output_type": "execute_result"
    }
   ],
   "source": [
    "animals.get('e','value not there')\n",
    "animals"
   ]
  },
  {
   "cell_type": "code",
   "execution_count": 18,
   "id": "e960b15a",
   "metadata": {},
   "outputs": [
    {
     "data": {
      "text/plain": [
       "{'a': 'antelop', 'b': 'bear', 'c': ['cat', 'caribou'], 'd': 'dog'}"
      ]
     },
     "execution_count": 18,
     "metadata": {},
     "output_type": "execute_result"
    }
   ],
   "source": [
    "animals['c'] = ['cat']\n",
    "animals['c'].append('caribou')\n",
    "animals"
   ]
  }
 ],
 "metadata": {
  "kernelspec": {
   "display_name": "Python 3 (ipykernel)",
   "language": "python",
   "name": "python3"
  },
  "language_info": {
   "codemirror_mode": {
    "name": "ipython",
    "version": 3
   },
   "file_extension": ".py",
   "mimetype": "text/x-python",
   "name": "python",
   "nbconvert_exporter": "python",
   "pygments_lexer": "ipython3",
   "version": "3.11.1"
  }
 },
 "nbformat": 4,
 "nbformat_minor": 5
}
