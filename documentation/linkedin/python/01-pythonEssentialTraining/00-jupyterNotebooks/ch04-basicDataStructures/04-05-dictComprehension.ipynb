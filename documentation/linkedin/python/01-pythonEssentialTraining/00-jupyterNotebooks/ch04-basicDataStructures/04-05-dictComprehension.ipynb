{
 "cells": [
  {
   "cell_type": "code",
   "execution_count": 15,
   "id": "ff7c1c11",
   "metadata": {},
   "outputs": [
    {
     "data": {
      "text/plain": [
       "{'a': 'aardvark', 'b': 'bear', 'c': 'cat', 'd': 'dog'}"
      ]
     },
     "execution_count": 15,
     "metadata": {},
     "output_type": "execute_result"
    }
   ],
   "source": [
    "animalList = [('a','aardvark'),('b','bear'),('c','cat'),('d','dog')]\n",
    "animalsDict = {key: value for key,value in animalList}\n",
    "animalsDict"
   ]
  },
  {
   "cell_type": "code",
   "execution_count": 16,
   "id": "7c0448c0",
   "metadata": {},
   "outputs": [
    {
     "data": {
      "text/plain": [
       "dict_items([('a', 'aardvark'), ('b', 'bear'), ('c', 'cat'), ('d', 'dog')])"
      ]
     },
     "execution_count": 16,
     "metadata": {},
     "output_type": "execute_result"
    }
   ],
   "source": [
    "animalsDict.items()"
   ]
  },
  {
   "cell_type": "code",
   "execution_count": 19,
   "id": "965a0afb",
   "metadata": {},
   "outputs": [
    {
     "data": {
      "text/plain": [
       "[{'letter': 'a', 'name': 'aardvark'},\n",
       " {'letter': 'b', 'name': 'bear'},\n",
       " {'letter': 'c', 'name': 'cat'},\n",
       " {'letter': 'd', 'name': 'dog'}]"
      ]
     },
     "execution_count": 19,
     "metadata": {},
     "output_type": "execute_result"
    }
   ],
   "source": [
    "newAnimals = [{'letter': key , 'name': value} for key , value in animalsDict.items()]\n",
    "newAnimals"
   ]
  },
  {
   "cell_type": "markdown",
   "id": "7423a12f",
   "metadata": {},
   "source": [
    "### .items"
   ]
  },
  {
   "cell_type": "code",
   "execution_count": 10,
   "id": "ad9ed7d7",
   "metadata": {},
   "outputs": [
    {
     "data": {
      "text/plain": [
       "dict_items([('a', 'aardvark'), ('b', 'bear'), ('c', 'cat'), ('d', 'dog')])"
      ]
     },
     "execution_count": 10,
     "metadata": {},
     "output_type": "execute_result"
    }
   ],
   "source": [
    "animalsDict.items()"
   ]
  },
  {
   "cell_type": "code",
   "execution_count": 7,
   "id": "7a4fd083",
   "metadata": {},
   "outputs": [
    {
     "data": {
      "text/plain": [
       "{'a': 'aardvark', 'b': 'bear', 'c': 'cat', 'd': 'dog'}"
      ]
     },
     "execution_count": 7,
     "metadata": {},
     "output_type": "execute_result"
    }
   ],
   "source": [
    "animals = {key: value for key,value in animalList}\n",
    "animals"
   ]
  },
  {
   "cell_type": "markdown",
   "id": "68873133",
   "metadata": {},
   "source": [
    "## practice"
   ]
  },
  {
   "cell_type": "code",
   "execution_count": 5,
   "id": "685c0df6",
   "metadata": {},
   "outputs": [
    {
     "data": {
      "text/plain": [
       "{'Heather': 29, 'Rebecca': 47, 'Jennifier': 35}"
      ]
     },
     "execution_count": 5,
     "metadata": {},
     "output_type": "execute_result"
    }
   ],
   "source": [
    "tuplesPatients = [('Heather', 29), ('Rebecca', 47) , ('Jennifier', 35)]\n",
    "dictPatients = {key : value for key,value in tuplesPatients}\n",
    "dictPatients\n",
    "                "
   ]
  },
  {
   "cell_type": "code",
   "execution_count": 6,
   "id": "6c8293d2",
   "metadata": {},
   "outputs": [
    {
     "data": {
      "text/plain": [
       "dict_items([('Heather', 29), ('Rebecca', 47), ('Jennifier', 35)])"
      ]
     },
     "execution_count": 6,
     "metadata": {},
     "output_type": "execute_result"
    }
   ],
   "source": [
    "dictPatients.items()"
   ]
  },
  {
   "cell_type": "code",
   "execution_count": 7,
   "id": "d3a42852",
   "metadata": {},
   "outputs": [
    {
     "data": {
      "text/plain": [
       "[('Heather', 29), ('Rebecca', 47), ('Jennifier', 35)]"
      ]
     },
     "execution_count": 7,
     "metadata": {},
     "output_type": "execute_result"
    }
   ],
   "source": [
    "list(dictPatients.items())"
   ]
  },
  {
   "cell_type": "code",
   "execution_count": 23,
   "id": "720702c7",
   "metadata": {},
   "outputs": [
    {
     "data": {
      "text/plain": [
       "[{'Name': 'Heather', 'Age': 29},\n",
       " {'Name': 'Rebecca', 'Age': 47},\n",
       " {'Name': 'Jennifier', 'Age': 35}]"
      ]
     },
     "execution_count": 23,
     "metadata": {},
     "output_type": "execute_result"
    }
   ],
   "source": [
    "[{'Name' : key , 'Age' : value} for key, value in dictPatients.items()]"
   ]
  }
 ],
 "metadata": {
  "kernelspec": {
   "display_name": "Python 3 (ipykernel)",
   "language": "python",
   "name": "python3"
  },
  "language_info": {
   "codemirror_mode": {
    "name": "ipython",
    "version": 3
   },
   "file_extension": ".py",
   "mimetype": "text/x-python",
   "name": "python",
   "nbconvert_exporter": "python",
   "pygments_lexer": "ipython3",
   "version": "3.11.1"
  }
 },
 "nbformat": 4,
 "nbformat_minor": 5
}
