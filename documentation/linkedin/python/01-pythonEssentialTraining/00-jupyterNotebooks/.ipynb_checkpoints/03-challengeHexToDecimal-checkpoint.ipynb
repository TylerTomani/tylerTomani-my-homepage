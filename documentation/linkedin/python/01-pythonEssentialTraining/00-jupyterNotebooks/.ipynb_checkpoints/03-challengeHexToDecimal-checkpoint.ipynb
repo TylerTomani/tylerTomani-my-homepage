{
 "cells": [
  {
   "cell_type": "code",
   "execution_count": 5,
   "id": "4db92fe4",
   "metadata": {},
   "outputs": [],
   "source": [
    "hexNumbers = {\n",
    "    '0': 0 , '1': 1, '2': 2, '3' : 3, '4' : 4, '5': 5, '6': 6, '7' : 7, '8': 8,\n",
    "    '9': 9, 'A': 10, 'B': 11, 'C': 12, 'D' : 13, 'E': 14, 'F': 15\n",
    "}"
   ]
  },
  {
   "cell_type": "code",
   "execution_count": 16,
   "id": "4fb01283",
   "metadata": {},
   "outputs": [],
   "source": [
    "def hexToDec(hexNum):    \n",
    "    for char in hexNum:\n",
    "        if char not in hexNumbers:\n",
    "            return None\n",
    "\n",
    "        if len(hexNum) == 3:\n",
    "            return hexNumbers[hexNum[0]] * 256 + hexNumbers[hexNum[1]] * 16 + hexNumbers[hexNum[2]] \n",
    "        if len(hexNum == 2):\n",
    "            return hexNumbers[hexNum[0]] * 16 + hexNumbers[hexNum2]\n",
    "        if len(hexNum == 1):\n",
    "            return hexNumbers[hexNum[0]]"
   ]
  },
  {
   "cell_type": "code",
   "execution_count": 18,
   "id": "ced7c78d",
   "metadata": {},
   "outputs": [
    {
     "name": "stdout",
     "output_type": "stream",
     "text": [
      "10\n"
     ]
    },
    {
     "data": {
      "text/plain": [
       "2748"
      ]
     },
     "execution_count": 18,
     "metadata": {},
     "output_type": "execute_result"
    }
   ],
   "source": [
    "hexToDec('ABC')"
   ]
  }
 ],
 "metadata": {
  "kernelspec": {
   "display_name": "Python 3 (ipykernel)",
   "language": "python",
   "name": "python3"
  },
  "language_info": {
   "codemirror_mode": {
    "name": "ipython",
    "version": 3
   },
   "file_extension": ".py",
   "mimetype": "text/x-python",
   "name": "python",
   "nbconvert_exporter": "python",
   "pygments_lexer": "ipython3",
   "version": "3.11.1"
  }
 },
 "nbformat": 4,
 "nbformat_minor": 5
}
