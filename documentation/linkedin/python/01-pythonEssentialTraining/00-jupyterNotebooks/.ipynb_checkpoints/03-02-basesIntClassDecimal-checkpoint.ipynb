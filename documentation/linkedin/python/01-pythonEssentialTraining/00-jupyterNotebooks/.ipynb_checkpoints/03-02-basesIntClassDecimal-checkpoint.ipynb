{
 "cells": [
  {
   "cell_type": "code",
   "execution_count": null,
   "id": "d2bc08ea",
   "metadata": {},
   "outputs": [],
   "source": [
    "print(int('0001',10))\n",
    "print(int('0010',10))\n",
    "print(int('0100',10))"
   ]
  },
  {
   "cell_type": "markdown",
   "id": "ed99391f",
   "metadata": {},
   "source": [
    "## base 10 to binary"
   ]
  },
  {
   "cell_type": "code",
   "execution_count": 6,
   "id": "768a3ecb",
   "metadata": {},
   "outputs": [
    {
     "name": "stdout",
     "output_type": "stream",
     "text": [
      "1\n",
      "2\n",
      "4\n"
     ]
    }
   ],
   "source": [
    "print(int('0001',2))\n",
    "print(int('0010',2))\n",
    "print(int('0100',2))"
   ]
  },
  {
   "cell_type": "code",
   "execution_count": 4,
   "id": "4e02d9aa",
   "metadata": {},
   "outputs": [
    {
     "name": "stdout",
     "output_type": "stream",
     "text": [
      "10\n"
     ]
    }
   ],
   "source": [
    "print(int('0010',10))"
   ]
  }
 ],
 "metadata": {
  "kernelspec": {
   "display_name": "Python 3 (ipykernel)",
   "language": "python",
   "name": "python3"
  },
  "language_info": {
   "codemirror_mode": {
    "name": "ipython",
    "version": 3
   },
   "file_extension": ".py",
   "mimetype": "text/x-python",
   "name": "python",
   "nbconvert_exporter": "python",
   "pygments_lexer": "ipython3",
   "version": "3.11.1"
  }
 },
 "nbformat": 4,
 "nbformat_minor": 5
}
