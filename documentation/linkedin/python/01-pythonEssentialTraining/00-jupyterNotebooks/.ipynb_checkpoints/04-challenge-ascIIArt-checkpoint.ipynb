{
 "cells": [
  {
   "cell_type": "markdown",
   "id": "faba2b52",
   "metadata": {},
   "source": [
    "## ASCII Art Encoding"
   ]
  },
  {
   "cell_type": "markdown",
   "id": "17bf2fe9",
   "metadata": {},
   "source": [
    "Write function encodeString() that takes string like 'AAAAABBBBAAA' and converts it into a list of tuples that looks like [('A',5),('B',4),('A',3)."
   ]
  },
  {
   "cell_type": "markdown",
   "id": "027bd6fb",
   "metadata": {},
   "source": [
    "https://en.wikipedia.org/wiki/ASCII_art"
   ]
  },
  {
   "cell_type": "markdown",
   "id": "e9ac71d4",
   "metadata": {},
   "source": [
    "Then write and decodeString() function that decodes it into a an ASCI Art??? I'm not sure how it makes a smiley face"
   ]
  },
  {
   "cell_type": "code",
   "execution_count": 4,
   "id": "43250f81",
   "metadata": {},
   "outputs": [],
   "source": [
    "def encodeString(strVal):\n",
    "    encodeList = []\n",
    "    prevChar = strVal[0]\n",
    "    count = 0\n",
    "    for char in strVal:\n",
    "        if char != prevChar:\n",
    "            encodeList.append((prevChar, count))\n",
    "            count = 0\n",
    "        preveChar = char\n",
    "        count = count + 1\n",
    "        \n",
    "    encodeList.append((prevChar, count))\n",
    "    return encodeList"
   ]
  },
  {
   "cell_type": "code",
   "execution_count": 7,
   "id": "fd335b7f",
   "metadata": {},
   "outputs": [],
   "source": [
    "def decodeString(encodeList):\n",
    "    decodeStr = ''\n",
    "    for item in encodeList:\n",
    "        decodeStr = decodeStr + item[0] * item[1]\n",
    "    return decodeStr"
   ]
  },
  {
   "cell_type": "code",
   "execution_count": 13,
   "id": "0e0ff847",
   "metadata": {},
   "outputs": [
    {
     "name": "stdout",
     "output_type": "stream",
     "text": [
      "[('A', 4), ('A', 1), ('A', 1), ('A', 1), ('A', 1), ('A', 1), ('A', 1), ('A', 1), ('A', 1)]\n",
      "AAAAAAAAAAAA\n"
     ]
    }
   ],
   "source": [
    "ecode = encodeString('AAAABBBCCCCC')\n",
    "print(ecode)\n",
    "dcode = decodeString(ecode)\n",
    "print(dcode)"
   ]
  },
  {
   "cell_type": "code",
   "execution_count": null,
   "id": "afeacaf8",
   "metadata": {},
   "outputs": [],
   "source": [
    "art = ''' \n",
    "              %%%%%%%%%%%%%%%%%%%\n",
    "            %%%%%%%%%%%%%%%%%%%%%%%\n",
    "        %%%%                       %%%%\n",
    "      %%%%     %%%          %%%      %%%%\n",
    "    %%%%      %%%%%        %%%%%       %%%%\n",
    "   %%%%       %%%%%        %%%%%        %%%% \n",
    "  %%%%         %%%          %%%          %%%% \n",
    "  %%%%                                   %%%% \n",
    "  %%%%                                   %%%% \n",
    "  %%%%    %%%%                    %%%%   %%%%  \n",
    "   %%%%    %%                      %%   %%%%  \n",
    "    %%%%    %                      %   %%%% \n",
    "     %%%%    %                    %   %%%% \n",
    "      %%%%    %                  %   %%%% \n",
    "       %%%%    %%%%%%%%%%%%%%%%%%   %%%% \n",
    "        %%%%                       %%%% \n",
    "            %%%%%%%%%%%%%%%%%%%%%%%\n",
    "              %%%%%%%%%%%%%%%%%%%\n",
    "            \n",
    "'''"
   ]
  }
 ],
 "metadata": {
  "kernelspec": {
   "display_name": "Python 3 (ipykernel)",
   "language": "python",
   "name": "python3"
  },
  "language_info": {
   "codemirror_mode": {
    "name": "ipython",
    "version": 3
   },
   "file_extension": ".py",
   "mimetype": "text/x-python",
   "name": "python",
   "nbconvert_exporter": "python",
   "pygments_lexer": "ipython3",
   "version": "3.11.1"
  }
 },
 "nbformat": 4,
 "nbformat_minor": 5
}
