{
 "cells": [
  {
   "cell_type": "code",
   "execution_count": 36,
   "id": "95a8dc7b",
   "metadata": {},
   "outputs": [
    {
     "name": "stdout",
     "output_type": "stream",
     "text": [
      "go for walk\n"
     ]
    }
   ],
   "source": [
    "weatherIsNice = False\n",
    "haveUmbrella = True\n",
    "if not haveUmbrella or weatheIsNice:\n",
    "    print('go for walk')\n",
    "else:\n",
    "    print('stay inside')"
   ]
  },
  {
   "cell_type": "code",
   "execution_count": 20,
   "id": "d9ffc292",
   "metadata": {},
   "outputs": [
    {
     "name": "stdout",
     "output_type": "stream",
     "text": [
      "True\n"
     ]
    }
   ],
   "source": [
    "a = 5\n",
    "b = 5\n",
    "print(a == b)"
   ]
  },
  {
   "cell_type": "code",
   "execution_count": 17,
   "id": "73f45161",
   "metadata": {},
   "outputs": [
    {
     "name": "stdout",
     "output_type": "stream",
     "text": [
      "a - b is 0 and equal\n"
     ]
    }
   ],
   "source": [
    "a = 5 \n",
    "b = 5\n",
    "if a - b:\n",
    "    print('not equal')\n",
    "print('a - b is 0 and equal')"
   ]
  },
  {
   "cell_type": "code",
   "execution_count": 8,
   "id": "7ac3758a",
   "metadata": {},
   "outputs": [
    {
     "name": "stdout",
     "output_type": "stream",
     "text": [
      "go for walk\n",
      "False\n"
     ]
    }
   ],
   "source": [
    "weatheIsNice = False\n",
    "haveUmbrella = True\n",
    "if not haveUmbrella or weatheIsNice:\n",
    "    print('stay inside')\n",
    "else:\n",
    "    print('go for walk')\n",
    "print(not haveUmbrella)"
   ]
  },
  {
   "cell_type": "code",
   "execution_count": 4,
   "id": "091c56ec",
   "metadata": {},
   "outputs": [
    {
     "name": "stdout",
     "output_type": "stream",
     "text": [
      "this is true\n"
     ]
    }
   ],
   "source": [
    "my_list = [1,2,3,4]\n",
    "if bool(my_list):\n",
    "    print('this is true')"
   ]
  },
  {
   "cell_type": "code",
   "execution_count": 3,
   "id": "eeb871e3",
   "metadata": {},
   "outputs": [
    {
     "name": "stdout",
     "output_type": "stream",
     "text": [
      "true\n"
     ]
    }
   ],
   "source": [
    "my_list = [1,2,3,4]\n",
    "if my_list:\n",
    "    print('true')"
   ]
  },
  {
   "cell_type": "markdown",
   "id": "9a8ac4c8",
   "metadata": {},
   "source": [
    "## imaginary j and float zero"
   ]
  },
  {
   "cell_type": "code",
   "execution_count": 1,
   "id": "20bc6fe2",
   "metadata": {},
   "outputs": [
    {
     "data": {
      "text/plain": [
       "False"
      ]
     },
     "execution_count": 1,
     "metadata": {},
     "output_type": "execute_result"
    }
   ],
   "source": [
    "bool(0j)"
   ]
  },
  {
   "cell_type": "code",
   "execution_count": 2,
   "id": "1d3859b3",
   "metadata": {},
   "outputs": [
    {
     "data": {
      "text/plain": [
       "False"
      ]
     },
     "execution_count": 2,
     "metadata": {},
     "output_type": "execute_result"
    }
   ],
   "source": [
    "bool(0.0)"
   ]
  }
 ],
 "metadata": {
  "kernelspec": {
   "display_name": "Python 3 (ipykernel)",
   "language": "python",
   "name": "python3"
  },
  "language_info": {
   "codemirror_mode": {
    "name": "ipython",
    "version": 3
   },
   "file_extension": ".py",
   "mimetype": "text/x-python",
   "name": "python",
   "nbconvert_exporter": "python",
   "pygments_lexer": "ipython3",
   "version": "3.11.1"
  }
 },
 "nbformat": 4,
 "nbformat_minor": 5
}
