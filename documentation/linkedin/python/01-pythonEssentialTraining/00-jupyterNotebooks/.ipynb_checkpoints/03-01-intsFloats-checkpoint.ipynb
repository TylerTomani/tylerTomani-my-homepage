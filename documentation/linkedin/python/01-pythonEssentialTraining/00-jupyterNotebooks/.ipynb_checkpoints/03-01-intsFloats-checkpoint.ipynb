{
 "cells": [
  {
   "cell_type": "code",
   "execution_count": null,
   "id": "b6daf70d",
   "metadata": {},
   "outputs": [],
   "source": []
  },
  {
   "cell_type": "markdown",
   "id": "480883bb",
   "metadata": {},
   "source": [
    "## floats"
   ]
  },
  {
   "cell_type": "code",
   "execution_count": 9,
   "id": "39db8c11",
   "metadata": {},
   "outputs": [
    {
     "name": "stdout",
     "output_type": "stream",
     "text": [
      "0.19999999999999996\n"
     ]
    }
   ],
   "source": [
    "subtract = 1.2 - 1\n",
    "print(subtract)"
   ]
  },
  {
   "cell_type": "markdown",
   "id": "13066f03",
   "metadata": {},
   "source": [
    "## int() class"
   ]
  },
  {
   "cell_type": "code",
   "execution_count": 8,
   "id": "22d97f48",
   "metadata": {},
   "outputs": [
    {
     "name": "stdout",
     "output_type": "stream",
     "text": [
      "<class 'int'> 81\n"
     ]
    }
   ],
   "source": [
    "exp = int(3 ** 4.0 )\n",
    "print(type(exp),exp)"
   ]
  },
  {
   "cell_type": "markdown",
   "id": "13011fd5",
   "metadata": {},
   "source": [
    "## int"
   ]
  },
  {
   "cell_type": "code",
   "execution_count": 3,
   "id": "cb48fc40",
   "metadata": {},
   "outputs": [
    {
     "name": "stdout",
     "output_type": "stream",
     "text": [
      "<class 'float'> 4.0\n"
     ]
    }
   ],
   "source": [
    "add = 1.0 + 3\n",
    "print(type(add),add)"
   ]
  },
  {
   "cell_type": "code",
   "execution_count": 2,
   "id": "b69badbf",
   "metadata": {},
   "outputs": [
    {
     "name": "stdout",
     "output_type": "stream",
     "text": [
      "<class 'float'> 36.0\n"
     ]
    }
   ],
   "source": [
    "multiply = 3 * 12.0\n",
    "print(type(multiply),multiply)"
   ]
  },
  {
   "cell_type": "code",
   "execution_count": 1,
   "id": "3f70cc4e",
   "metadata": {},
   "outputs": [
    {
     "name": "stdout",
     "output_type": "stream",
     "text": [
      "<class 'float'> 5.0\n"
     ]
    }
   ],
   "source": [
    "division = 20 / 4\n",
    "print(type(division),division)"
   ]
  }
 ],
 "metadata": {
  "kernelspec": {
   "display_name": "Python 3 (ipykernel)",
   "language": "python",
   "name": "python3"
  },
  "language_info": {
   "codemirror_mode": {
    "name": "ipython",
    "version": 3
   },
   "file_extension": ".py",
   "mimetype": "text/x-python",
   "name": "python",
   "nbconvert_exporter": "python",
   "pygments_lexer": "ipython3",
   "version": "3.11.1"
  }
 },
 "nbformat": 4,
 "nbformat_minor": 5
}
