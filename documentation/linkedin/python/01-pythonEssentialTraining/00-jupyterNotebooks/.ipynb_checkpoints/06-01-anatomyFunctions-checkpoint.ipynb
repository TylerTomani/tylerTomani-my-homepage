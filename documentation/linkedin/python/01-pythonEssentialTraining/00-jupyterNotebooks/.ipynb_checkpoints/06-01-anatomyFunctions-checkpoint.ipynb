{
 "cells": [
  {
   "cell_type": "markdown",
   "id": "50983599",
   "metadata": {},
   "source": [
    "## named/default parameters"
   ]
  },
  {
   "cell_type": "code",
   "execution_count": 53,
   "id": "75257540",
   "metadata": {},
   "outputs": [
    {
     "name": "stdout",
     "output_type": "stream",
     "text": [
      "7\n"
     ]
    }
   ],
   "source": [
    "def performOperation(num1,num2,operator = 'sum'):\n",
    "    if operator == 'sum':\n",
    "        return num1 + num2\n",
    "    if operator == 'multiply':\n",
    "        return num1 * num2\n",
    "result = performOperation(2,5)\n",
    "print(result)"
   ]
  },
  {
   "cell_type": "markdown",
   "id": "217e5e6e",
   "metadata": {},
   "source": [
    "## Functions"
   ]
  },
  {
   "cell_type": "code",
   "execution_count": 51,
   "id": "404c3d4b",
   "metadata": {},
   "outputs": [
    {
     "name": "stdout",
     "output_type": "stream",
     "text": [
      "7\n",
      "10\n"
     ]
    }
   ],
   "source": [
    "def performOperation(num1, num2, operator):\n",
    "    if operator == 'sum':\n",
    "        return num1 + num2\n",
    "    if operator == 'multiply':\n",
    "        return num1 * num2\n",
    "result = performOperation(2,5,'sum')\n",
    "print(result)\n",
    "result = performOperation(2,5,'multiply')\n",
    "print(result)"
   ]
  }
 ],
 "metadata": {
  "kernelspec": {
   "display_name": "Python 3 (ipykernel)",
   "language": "python",
   "name": "python3"
  },
  "language_info": {
   "codemirror_mode": {
    "name": "ipython",
    "version": 3
   },
   "file_extension": ".py",
   "mimetype": "text/x-python",
   "name": "python",
   "nbconvert_exporter": "python",
   "pygments_lexer": "ipython3",
   "version": "3.11.1"
  }
 },
 "nbformat": 4,
 "nbformat_minor": 5
}
