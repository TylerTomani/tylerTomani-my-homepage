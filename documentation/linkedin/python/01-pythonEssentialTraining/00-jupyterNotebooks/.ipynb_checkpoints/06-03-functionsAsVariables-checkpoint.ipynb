{
 "cells": [
  {
   "cell_type": "code",
   "execution_count": 67,
   "id": "4d8d0b33",
   "metadata": {},
   "outputs": [],
   "source": [
    "text = '''\n",
    "Beautiful is better than ugly.\n",
    "Explicit is better than implicit.\n",
    "Simple is better than complex.\n",
    "Complex is better than complicated.\n",
    "Flat is better than nested.\n",
    "Sparse is better than dense.\n",
    "Readability counts.\n",
    "Special cases aren't special enough to break the rules.\n",
    "Although practicality beats purity.\n",
    "Errors should never pass silently.\n",
    "Unless explicitly silenced.\n",
    "In the face of ambiguity, refuse the temptation to guess.\n",
    "There should be one-- and preferably only one --obvious way to do it.\n",
    "Although that way may not be obvious at first unless you're Dutch.\n",
    "Now is better than never.\n",
    "Although never is often better than *right* now.\n",
    "If the implementation is hard to explain, it's a bad idea.\n",
    "If the implementation is easy to explain, it may be a good idea.\n",
    "Namespaces are one honking great idea -- let's do more of those!\n",
    "'''"
   ]
  },
  {
   "cell_type": "code",
   "execution_count": 68,
   "id": "44d3ccf5",
   "metadata": {},
   "outputs": [],
   "source": [
    "def lowerCase(txt):\n",
    "    return txt.lower()"
   ]
  },
  {
   "cell_type": "code",
   "execution_count": 69,
   "id": "95e0e240",
   "metadata": {},
   "outputs": [],
   "source": [
    "def removePunctuations(txt):\n",
    "    punctuations = ['.','-',',','*']\n",
    "    for punctuation in punctuations:\n",
    "        txt = txt.replact(punctuation,'')\n",
    "    return txt"
   ]
  },
  {
   "cell_type": "code",
   "execution_count": 74,
   "id": "d8fdcbb1",
   "metadata": {},
   "outputs": [],
   "source": [
    "def removeNewLines(txt):\n",
    "    return txt.replace('\\n','')"
   ]
  },
  {
   "cell_type": "code",
   "execution_count": 75,
   "id": "adc1f3cc",
   "metadata": {},
   "outputs": [],
   "source": [
    "def removeShortWords(txt):\n",
    "    return ' '.join([word for word in txt.split() if len(word) > 9])"
   ]
  },
  {
   "cell_type": "code",
   "execution_count": 76,
   "id": "dbd67109",
   "metadata": {},
   "outputs": [],
   "source": [
    "def removeLongWord(txt):\n",
    "    return ' '.join([word for word in txt.split() if len(word) < 3])"
   ]
  },
  {
   "cell_type": "code",
   "execution_count": null,
   "id": "5c5f5163",
   "metadata": {},
   "outputs": [],
   "source": [
    "processingFunction = [lowercase,removeNewLines]"
   ]
  }
 ],
 "metadata": {
  "kernelspec": {
   "display_name": "Python 3 (ipykernel)",
   "language": "python",
   "name": "python3"
  },
  "language_info": {
   "codemirror_mode": {
    "name": "ipython",
    "version": 3
   },
   "file_extension": ".py",
   "mimetype": "text/x-python",
   "name": "python",
   "nbconvert_exporter": "python",
   "pygments_lexer": "ipython3",
   "version": "3.11.1"
  }
 },
 "nbformat": 4,
 "nbformat_minor": 5
}
