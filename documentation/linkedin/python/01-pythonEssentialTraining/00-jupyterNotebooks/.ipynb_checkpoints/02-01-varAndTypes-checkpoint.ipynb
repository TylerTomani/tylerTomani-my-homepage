{
 "cells": [
  {
   "cell_type": "markdown",
   "id": "99a0c2c7",
   "metadata": {},
   "source": [
    "# Basic Data types"
   ]
  },
  {
   "cell_type": "markdown",
   "id": "097f69b7",
   "metadata": {},
   "source": [
    "### Defining a variable"
   ]
  },
  {
   "cell_type": "markdown",
   "id": "0c6182fe",
   "metadata": {},
   "source": [
    "press shift + Enter to enter new cell in edit mode"
   ]
  },
  {
   "cell_type": "code",
   "execution_count": 12,
   "id": "5c6bc078",
   "metadata": {},
   "outputs": [],
   "source": [
    "x = 5"
   ]
  },
  {
   "cell_type": "code",
   "execution_count": 13,
   "id": "fc16adbf",
   "metadata": {},
   "outputs": [
    {
     "name": "stdout",
     "output_type": "stream",
     "text": [
      "5\n"
     ]
    }
   ],
   "source": [
    "print(x)"
   ]
  },
  {
   "cell_type": "code",
   "execution_count": null,
   "id": "c01541a1",
   "metadata": {},
   "outputs": [],
   "source": []
  }
 ],
 "metadata": {
  "kernelspec": {
   "display_name": "Python 3 (ipykernel)",
   "language": "python",
   "name": "python3"
  },
  "language_info": {
   "codemirror_mode": {
    "name": "ipython",
    "version": 3
   },
   "file_extension": ".py",
   "mimetype": "text/x-python",
   "name": "python",
   "nbconvert_exporter": "python",
   "pygments_lexer": "ipython3",
   "version": "3.11.1"
  }
 },
 "nbformat": 4,
 "nbformat_minor": 5
}
