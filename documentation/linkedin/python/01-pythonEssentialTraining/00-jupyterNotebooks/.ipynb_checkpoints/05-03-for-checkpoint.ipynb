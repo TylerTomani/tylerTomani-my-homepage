{
 "cells": [
  {
   "cell_type": "markdown",
   "id": "6c6690c6",
   "metadata": {},
   "source": [
    "## Finding Primes with ** .5 square root + 1"
   ]
  },
  {
   "cell_type": "markdown",
   "id": "84edc367",
   "metadata": {},
   "source": [
    "I don't quiet get how this works but it is very usefule"
   ]
  },
  {
   "cell_type": "code",
   "execution_count": 12,
   "id": "43d6407f",
   "metadata": {},
   "outputs": [
    {
     "name": "stdout",
     "output_type": "stream",
     "text": [
      "4 is prime\n",
      "5 is prime\n",
      "6 is prime\n",
      "7 is prime\n",
      "8 is prime\n",
      "9 is prime\n",
      "9 is prime\n",
      "10 is prime\n",
      "10 is prime\n",
      "11 is prime\n",
      "11 is prime\n",
      "12 is prime\n",
      "12 is prime\n",
      "13 is prime\n",
      "13 is prime\n",
      "14 is prime\n",
      "14 is prime\n",
      "15 is prime\n",
      "15 is prime\n",
      "16 is prime\n",
      "16 is prime\n",
      "16 is prime\n",
      "17 is prime\n",
      "17 is prime\n",
      "17 is prime\n",
      "18 is prime\n",
      "18 is prime\n",
      "18 is prime\n",
      "19 is prime\n",
      "19 is prime\n",
      "19 is prime\n",
      "20 is prime\n",
      "20 is prime\n",
      "20 is prime\n",
      "21 is prime\n",
      "21 is prime\n",
      "21 is prime\n",
      "22 is prime\n",
      "22 is prime\n",
      "22 is prime\n",
      "23 is prime\n",
      "23 is prime\n",
      "23 is prime\n",
      "24 is prime\n",
      "24 is prime\n",
      "24 is prime\n",
      "25 is prime\n",
      "25 is prime\n",
      "25 is prime\n",
      "25 is prime\n",
      "26 is prime\n",
      "26 is prime\n",
      "26 is prime\n",
      "26 is prime\n",
      "27 is prime\n",
      "27 is prime\n",
      "27 is prime\n",
      "27 is prime\n",
      "28 is prime\n",
      "28 is prime\n",
      "28 is prime\n",
      "28 is prime\n",
      "29 is prime\n",
      "29 is prime\n",
      "29 is prime\n",
      "29 is prime\n",
      "30 is prime\n",
      "30 is prime\n",
      "30 is prime\n",
      "30 is prime\n",
      "31 is prime\n",
      "31 is prime\n",
      "31 is prime\n",
      "31 is prime\n",
      "32 is prime\n",
      "32 is prime\n",
      "32 is prime\n",
      "32 is prime\n",
      "33 is prime\n",
      "33 is prime\n",
      "33 is prime\n",
      "33 is prime\n",
      "34 is prime\n",
      "34 is prime\n",
      "34 is prime\n",
      "34 is prime\n",
      "35 is prime\n",
      "35 is prime\n",
      "35 is prime\n",
      "35 is prime\n",
      "36 is prime\n",
      "36 is prime\n",
      "36 is prime\n",
      "36 is prime\n",
      "36 is prime\n",
      "37 is prime\n",
      "37 is prime\n",
      "37 is prime\n",
      "37 is prime\n",
      "37 is prime\n",
      "38 is prime\n",
      "38 is prime\n",
      "38 is prime\n",
      "38 is prime\n",
      "38 is prime\n",
      "39 is prime\n",
      "39 is prime\n",
      "39 is prime\n",
      "39 is prime\n",
      "39 is prime\n",
      "40 is prime\n",
      "40 is prime\n",
      "40 is prime\n",
      "40 is prime\n",
      "40 is prime\n",
      "41 is prime\n",
      "41 is prime\n",
      "41 is prime\n",
      "41 is prime\n",
      "41 is prime\n",
      "42 is prime\n",
      "42 is prime\n",
      "42 is prime\n",
      "42 is prime\n",
      "42 is prime\n",
      "43 is prime\n",
      "43 is prime\n",
      "43 is prime\n",
      "43 is prime\n",
      "43 is prime\n",
      "44 is prime\n",
      "44 is prime\n",
      "44 is prime\n",
      "44 is prime\n",
      "44 is prime\n",
      "45 is prime\n",
      "45 is prime\n",
      "45 is prime\n",
      "45 is prime\n",
      "45 is prime\n",
      "46 is prime\n",
      "46 is prime\n",
      "46 is prime\n",
      "46 is prime\n",
      "46 is prime\n",
      "47 is prime\n",
      "47 is prime\n",
      "47 is prime\n",
      "47 is prime\n",
      "47 is prime\n",
      "48 is prime\n",
      "48 is prime\n",
      "48 is prime\n",
      "48 is prime\n",
      "48 is prime\n",
      "49 is prime\n",
      "49 is prime\n",
      "49 is prime\n",
      "49 is prime\n",
      "49 is prime\n",
      "49 is prime\n"
     ]
    }
   ],
   "source": [
    "for num in range(2,50):\n",
    "    for factor in range(2, int(num ** 0.5) + 1):\n",
    "        if num % factor == 0:\n",
    "            break\n",
    "        else:\n",
    "            print(f'{num} is prime')"
   ]
  },
  {
   "cell_type": "code",
   "execution_count": 9,
   "id": "e78e9fb2",
   "metadata": {},
   "outputs": [
    {
     "name": "stdout",
     "output_type": "stream",
     "text": [
      "found 2 animals: ['aardvark', 'antelope']\n"
     ]
    }
   ],
   "source": [
    "animalDict = {\n",
    "    'a': ['aardvark','antelope'],\n",
    "    'b': ['bear'],\n",
    "    'c': ['cat'],\n",
    "    'd': ['dog']\n",
    "}\n",
    "for letter,animals in animalDict.items():\n",
    "    if len(animals) > 1:\n",
    "        print(f'found {len(animals)} animals: {animals}')\n",
    "        break"
   ]
  },
  {
   "cell_type": "code",
   "execution_count": 6,
   "id": "1381b6c2",
   "metadata": {},
   "outputs": [
    {
     "name": "stdout",
     "output_type": "stream",
     "text": [
      "only one animal : ['bear']\n",
      "only one animal : ['cat']\n",
      "only one animal : ['dog']\n"
     ]
    }
   ],
   "source": [
    "animalDict = {\n",
    "'a': ['aardvark','antelope'],\n",
    "'b': ['bear'],\n",
    "'c': ['cat'],\n",
    "'d': ['dog']\n",
    "}\n",
    "for letter,animals in animalDict.items():\n",
    "    if len(animals) > 1:\n",
    "        continue\n",
    "    print(f'only one animal : {animals}')\n",
    "\n",
    "                "
   ]
  },
  {
   "cell_type": "code",
   "execution_count": 1,
   "id": "cbc2565b",
   "metadata": {},
   "outputs": [
    {
     "name": "stdout",
     "output_type": "stream",
     "text": [
      "1\n",
      "2\n",
      "3\n",
      "4\n"
     ]
    }
   ],
   "source": [
    "myList = [1,2,3,4]\n",
    "for item in myList:\n",
    "    print(item)"
   ]
  }
 ],
 "metadata": {
  "kernelspec": {
   "display_name": "Python 3 (ipykernel)",
   "language": "python",
   "name": "python3"
  },
  "language_info": {
   "codemirror_mode": {
    "name": "ipython",
    "version": 3
   },
   "file_extension": ".py",
   "mimetype": "text/x-python",
   "name": "python",
   "nbconvert_exporter": "python",
   "pygments_lexer": "ipython3",
   "version": "3.11.1"
  }
 },
 "nbformat": 4,
 "nbformat_minor": 5
}
