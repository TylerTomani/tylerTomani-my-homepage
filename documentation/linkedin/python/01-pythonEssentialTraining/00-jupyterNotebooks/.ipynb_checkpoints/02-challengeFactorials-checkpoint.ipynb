{
 "cells": [
  {
   "cell_type": "code",
   "execution_count": null,
   "id": "c74c35b3",
   "metadata": {},
   "outputs": [],
   "source": [
    "def factorial(n):\n",
    "    if type(n) is not int:\n",
    "        return None\n",
    "    if n < 0:\n",
    "        return None\n",
    "    if n == 0:\n",
    "        return 1\n",
    "    i = 0\n",
    "    f = 1\n",
    "    while i < n:\n",
    "        i = i + 1\n",
    "        f = f * i\n",
    "    return f"
   ]
  },
  {
   "cell_type": "markdown",
   "id": "335b9694",
   "metadata": {},
   "source": [
    "## Factorial Challenge"
   ]
  },
  {
   "cell_type": "markdown",
   "id": "3fec698a",
   "metadata": {},
   "source": [
    "The factorial challenge gives the number of possible arrangements of a set of items of length n"
   ]
  },
  {
   "cell_type": "markdown",
   "id": "f4bd2722",
   "metadata": {},
   "source": [
    "5! = 5 * 4 * 3 * 2 * 1"
   ]
  },
  {
   "cell_type": "markdown",
   "id": "c21f53d1",
   "metadata": {},
   "source": [
    "6! = 6 * 5 * 4 * 3 * 2 * 1"
   ]
  },
  {
   "cell_type": "markdown",
   "id": "0e6b204c",
   "metadata": {},
   "source": [
    "0! = 1"
   ]
  },
  {
   "cell_type": "code",
   "execution_count": 26,
   "id": "5233dba5",
   "metadata": {},
   "outputs": [
    {
     "data": {
      "text/plain": [
       "24"
      ]
     },
     "execution_count": 26,
     "metadata": {},
     "output_type": "execute_result"
    }
   ],
   "source": [
    "factorial(4)"
   ]
  },
  {
   "cell_type": "code",
   "execution_count": 33,
   "id": "12be335e",
   "metadata": {},
   "outputs": [],
   "source": [
    "factorial('str')"
   ]
  },
  {
   "cell_type": "code",
   "execution_count": null,
   "id": "d62216f1",
   "metadata": {},
   "outputs": [],
   "source": [
    "                "
   ]
  }
 ],
 "metadata": {
  "kernelspec": {
   "display_name": "Python 3 (ipykernel)",
   "language": "python",
   "name": "python3"
  },
  "language_info": {
   "codemirror_mode": {
    "name": "ipython",
    "version": 3
   },
   "file_extension": ".py",
   "mimetype": "text/x-python",
   "name": "python",
   "nbconvert_exporter": "python",
   "pygments_lexer": "ipython3",
   "version": "3.11.1"
  }
 },
 "nbformat": 4,
 "nbformat_minor": 5
}
