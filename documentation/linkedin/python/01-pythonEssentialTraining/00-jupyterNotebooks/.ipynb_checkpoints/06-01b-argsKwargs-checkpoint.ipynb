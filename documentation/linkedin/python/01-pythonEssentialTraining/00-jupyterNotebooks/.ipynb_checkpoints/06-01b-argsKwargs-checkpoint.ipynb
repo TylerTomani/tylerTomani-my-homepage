{
 "cells": [
  {
   "cell_type": "code",
   "execution_count": 12,
   "id": "55ca74aa",
   "metadata": {},
   "outputs": [
    {
     "name": "stdout",
     "output_type": "stream",
     "text": [
      "7\n",
      "14\n"
     ]
    }
   ],
   "source": [
    "\n",
    "import math\n",
    "\n",
    "def performOperation(*args,operation = 'sum'):\n",
    "    if operation == 'sum':\n",
    "        return sum(args)\n",
    "    if operation == 'multiply':\n",
    "        return math.prod(args)\n",
    "result = performOperation(2,5, operation='sum')\n",
    "print(result)\n",
    "result = performOperation(2,7, operation= 'multiply')\n",
    "print(result)\n"
   ]
  },
  {
   "cell_type": "markdown",
   "id": "9b799a82",
   "metadata": {},
   "source": [
    "## **kwargs"
   ]
  },
  {
   "cell_type": "code",
   "execution_count": 5,
   "id": "2fdbd4d0",
   "metadata": {},
   "outputs": [
    {
     "name": "stdout",
     "output_type": "stream",
     "text": [
      "(1, 2, 3)\n",
      "{'operation': 'message'}\n"
     ]
    }
   ],
   "source": [
    "def performOperation(*args,**kwargs):\n",
    "    print(args)\n",
    "    print(kwargs)\n",
    "performOperation(1,2,3, operation='message')"
   ]
  },
  {
   "cell_type": "markdown",
   "id": "5d800767",
   "metadata": {},
   "source": [
    "## *args"
   ]
  },
  {
   "cell_type": "code",
   "execution_count": 4,
   "id": "849978c1",
   "metadata": {},
   "outputs": [
    {
     "data": {
      "text/plain": [
       "[1, 2, 3]"
      ]
     },
     "execution_count": 4,
     "metadata": {},
     "output_type": "execute_result"
    }
   ],
   "source": [
    "def performOperation(*args):\n",
    "    return(list(args))\n",
    "performOperation(1,2,3)"
   ]
  }
 ],
 "metadata": {
  "kernelspec": {
   "display_name": "Python 3 (ipykernel)",
   "language": "python",
   "name": "python3"
  },
  "language_info": {
   "codemirror_mode": {
    "name": "ipython",
    "version": 3
   },
   "file_extension": ".py",
   "mimetype": "text/x-python",
   "name": "python",
   "nbconvert_exporter": "python",
   "pygments_lexer": "ipython3",
   "version": "3.11.1"
  }
 },
 "nbformat": 4,
 "nbformat_minor": 5
}
