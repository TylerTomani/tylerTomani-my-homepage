{
 "cells": [
  {
   "cell_type": "markdown",
   "id": "2046b526",
   "metadata": {},
   "source": [
    "## Control Flow"
   ]
  },
  {
   "cell_type": "markdown",
   "id": "aef6b542",
   "metadata": {},
   "source": [
    "### if / else"
   ]
  },
  {
   "cell_type": "code",
   "execution_count": 5,
   "id": "bfb84321",
   "metadata": {},
   "outputs": [
    {
     "name": "stdout",
     "output_type": "stream",
     "text": [
      "a is true\n",
      "a and b are true\n",
      "all true\n",
      "but all okay\n"
     ]
    }
   ],
   "source": [
    "a = True\n",
    "b = True\n",
    "c = True\n",
    "if a:\n",
    "    print('a is true')\n",
    "    if b:\n",
    "        print('a and b are true')\n",
    "        if c:\n",
    "            print('all true')\n",
    "else:\n",
    "    print('nothing is true')\n",
    "print('but all okay')"
   ]
  },
  {
   "cell_type": "markdown",
   "id": "1740234a",
   "metadata": {},
   "source": [
    "### for loop"
   ]
  },
  {
   "cell_type": "code",
   "execution_count": null,
   "id": "8582330f",
   "metadata": {},
   "outputs": [],
   "source": [
    "my_list = [1,2,3,4]"
   ]
  }
 ],
 "metadata": {
  "kernelspec": {
   "display_name": "Python 3 (ipykernel)",
   "language": "python",
   "name": "python3"
  },
  "language_info": {
   "codemirror_mode": {
    "name": "ipython",
    "version": 3
   },
   "file_extension": ".py",
   "mimetype": "text/x-python",
   "name": "python",
   "nbconvert_exporter": "python",
   "pygments_lexer": "ipython3",
   "version": "3.11.1"
  }
 },
 "nbformat": 4,
 "nbformat_minor": 5
}
