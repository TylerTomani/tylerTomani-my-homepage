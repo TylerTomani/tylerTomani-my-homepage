{
 "cells": [
  {
   "cell_type": "code",
   "execution_count": 25,
   "id": "cbca7a49",
   "metadata": {},
   "outputs": [
    {
     "name": "stdout",
     "output_type": "stream",
     "text": [
      "[2, 3, 5, 7, 11, 13, 17, 19]\n"
     ]
    }
   ],
   "source": [
    "def findPrimes(num):\n",
    "    primes = [2]\n",
    "    for n in range(3,num):\n",
    "        sqrtN = n ** 0.5\n",
    "        for factor in primes:\n",
    "            if n % factor == 0:\n",
    "                break\n",
    "            if factor > sqrtN:\n",
    "                primes.append(n)\n",
    "                break\n",
    "    return primes\n",
    "print(findPrimes(22))"
   ]
  }
 ],
 "metadata": {
  "kernelspec": {
   "display_name": "Python 3 (ipykernel)",
   "language": "python",
   "name": "python3"
  },
  "language_info": {
   "codemirror_mode": {
    "name": "ipython",
    "version": 3
   },
   "file_extension": ".py",
   "mimetype": "text/x-python",
   "name": "python",
   "nbconvert_exporter": "python",
   "pygments_lexer": "ipython3",
   "version": "3.11.1"
  }
 },
 "nbformat": 4,
 "nbformat_minor": 5
}
