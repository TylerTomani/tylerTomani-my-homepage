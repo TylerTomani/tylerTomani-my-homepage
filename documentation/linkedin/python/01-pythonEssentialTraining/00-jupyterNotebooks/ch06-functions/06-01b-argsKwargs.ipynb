{
 "cells": [
  {
   "cell_type": "code",
   "execution_count": 14,
   "id": "14f46ae1",
   "metadata": {},
   "outputs": [
    {
     "name": "stdout",
     "output_type": "stream",
     "text": [
      "34\n",
      "14\n"
     ]
    }
   ],
   "source": [
    "\n",
    "import math\n",
    "\n",
    "def performOperation(*args,operation = 'sum'):\n",
    "    if operation == 'sum':\n",
    "        return sum(args)\n",
    "    if operation == 'multiply':\n",
    "        return math.prod(args)\n",
    "result = performOperation(2,5,8,19, operation='sum')\n",
    "print(result)\n",
    "result = performOperation(2,7, operation= 'multiply')\n",
    "print(result)\n"
   ]
  },
  {
   "cell_type": "markdown",
   "id": "19c518e5",
   "metadata": {},
   "source": [
    "## **kwargs"
   ]
  },
  {
   "cell_type": "code",
   "execution_count": 5,
   "id": "1264c571",
   "metadata": {},
   "outputs": [
    {
     "name": "stdout",
     "output_type": "stream",
     "text": [
      "(1, 2, 3)\n",
      "{'operation': 'message'}\n"
     ]
    }
   ],
   "source": [
    "def performOperation(*args,**kwargs):\n",
    "    print(args)\n",
    "    print(kwargs)\n",
    "performOperation(1,2,3, operation='message')"
   ]
  },
  {
   "cell_type": "markdown",
   "id": "24a626dc",
   "metadata": {},
   "source": [
    "## *args"
   ]
  },
  {
   "cell_type": "code",
   "execution_count": 4,
   "id": "3a49b531",
   "metadata": {},
   "outputs": [
    {
     "data": {
      "text/plain": [
       "[1, 2, 3]"
      ]
     },
     "execution_count": 4,
     "metadata": {},
     "output_type": "execute_result"
    }
   ],
   "source": [
    "def performOperation(*args):\n",
    "    return(list(args))\n",
    "performOperation(1,2,3)"
   ]
  }
 ],
 "metadata": {
  "kernelspec": {
   "display_name": "Python 3 (ipykernel)",
   "language": "python",
   "name": "python3"
  },
  "language_info": {
   "codemirror_mode": {
    "name": "ipython",
    "version": 3
   },
   "file_extension": ".py",
   "mimetype": "text/x-python",
   "name": "python",
   "nbconvert_exporter": "python",
   "pygments_lexer": "ipython3",
   "version": "3.11.1"
  }
 },
 "nbformat": 4,
 "nbformat_minor": 5
}
