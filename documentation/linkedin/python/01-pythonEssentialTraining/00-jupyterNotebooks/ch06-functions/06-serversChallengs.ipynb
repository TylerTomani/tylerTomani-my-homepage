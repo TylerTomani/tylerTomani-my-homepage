{
 "cells": [
  {
   "cell_type": "code",
   "execution_count": 8,
   "id": "022c362e",
   "metadata": {},
   "outputs": [],
   "source": [
    "import random\n",
    "import time"
   ]
  },
  {
   "cell_type": "code",
   "execution_count": 9,
   "id": "156c4a56",
   "metadata": {},
   "outputs": [],
   "source": [
    "serverUp = True"
   ]
  },
  {
   "cell_type": "code",
   "execution_count": 29,
   "id": "a7b3b103",
   "metadata": {},
   "outputs": [],
   "source": [
    "def getData50():\n",
    "    if serverUp and random.random() < 0.5:\n",
    "        return 'Data received: 50% chance'\n",
    "def getData25():\n",
    "    if serverUp and random.random() < 0.25:\n",
    "        return 'Data received: 25% change'\n",
    "def getData10():\n",
    "    if serverUp and random.random() < 0.10:\n",
    "        return 'Data received: 10% chance'"
   ]
  },
  {
   "cell_type": "code",
   "execution_count": 36,
   "id": "ff9fe800",
   "metadata": {},
   "outputs": [],
   "source": [
    "def getWithRetry(dataFunc):\n",
    "    maxRetries = 20\n",
    "    for _ in range(0,maxRetries):\n",
    "        response = dataFunc()\n",
    "        if response:\n",
    "            return response\n",
    "        else:\n",
    "            return 'Failed'"
   ]
  },
  {
   "cell_type": "code",
   "execution_count": 52,
   "id": "2fc1983f",
   "metadata": {},
   "outputs": [],
   "source": [
    "def getWithRety(dataFunc,retries = 20):\n",
    "    if retries == 0:\n",
    "        return 'Failed'\n",
    "    return dataFunc() or getWithRetry(dataFunc, retries = retries - 1)"
   ]
  },
  {
   "cell_type": "code",
   "execution_count": 56,
   "id": "47c6ec71",
   "metadata": {},
   "outputs": [
    {
     "data": {
      "text/plain": [
       "'Data received: 50% chance'"
      ]
     },
     "execution_count": 56,
     "metadata": {},
     "output_type": "execute_result"
    }
   ],
   "source": [
    "getWithRetry(getData50)"
   ]
  },
  {
   "cell_type": "code",
   "execution_count": 57,
   "id": "e615c6b2",
   "metadata": {},
   "outputs": [
    {
     "data": {
      "text/plain": [
       "'Data received: 25% change'"
      ]
     },
     "execution_count": 57,
     "metadata": {},
     "output_type": "execute_result"
    }
   ],
   "source": [
    "getWithRetry(getData25)"
   ]
  },
  {
   "cell_type": "code",
   "execution_count": 58,
   "id": "0e50b205",
   "metadata": {},
   "outputs": [
    {
     "data": {
      "text/plain": [
       "'Failed'"
      ]
     },
     "execution_count": 58,
     "metadata": {},
     "output_type": "execute_result"
    }
   ],
   "source": [
    "getWithRetry(getData10)"
   ]
  }
 ],
 "metadata": {
  "kernelspec": {
   "display_name": "Python 3 (ipykernel)",
   "language": "python",
   "name": "python3"
  },
  "language_info": {
   "codemirror_mode": {
    "name": "ipython",
    "version": 3
   },
   "file_extension": ".py",
   "mimetype": "text/x-python",
   "name": "python",
   "nbconvert_exporter": "python",
   "pygments_lexer": "ipython3",
   "version": "3.11.1"
  }
 },
 "nbformat": 4,
 "nbformat_minor": 5
}
