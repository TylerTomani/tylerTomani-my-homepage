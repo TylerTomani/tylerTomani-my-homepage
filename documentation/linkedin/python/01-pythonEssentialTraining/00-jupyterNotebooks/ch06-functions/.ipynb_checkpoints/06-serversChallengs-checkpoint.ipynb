{
 "cells": [
  {
   "cell_type": "code",
   "execution_count": 8,
   "id": "90f34975",
   "metadata": {},
   "outputs": [],
   "source": [
    "import random\n",
    "import time"
   ]
  },
  {
   "cell_type": "code",
   "execution_count": 9,
   "id": "73d887a0",
   "metadata": {},
   "outputs": [],
   "source": [
    "serverUp = True"
   ]
  },
  {
   "cell_type": "code",
   "execution_count": 29,
   "id": "8082dbd1",
   "metadata": {},
   "outputs": [],
   "source": [
    "def getData50():\n",
    "    if serverUp and random.random() < 0.5:\n",
    "        return 'Data received: 50% chance'\n",
    "def getData25():\n",
    "    if serverUp and random.random() < 0.25:\n",
    "        return 'Data received: 25% change'\n",
    "def getData10():\n",
    "    if serverUp and random.random() < 0.10:\n",
    "        return 'Data received: 10% chance'"
   ]
  },
  {
   "cell_type": "code",
   "execution_count": 36,
   "id": "13544bc2",
   "metadata": {},
   "outputs": [],
   "source": [
    "def getWithRetry(dataFunc):\n",
    "    maxRetries = 20\n",
    "    for _ in range(0,maxRetries):\n",
    "        response = dataFunc()\n",
    "        if response:\n",
    "            return response\n",
    "        else:\n",
    "            return 'Failed'"
   ]
  },
  {
   "cell_type": "code",
   "execution_count": 51,
   "id": "53228335",
   "metadata": {},
   "outputs": [
    {
     "ename": "SyntaxError",
     "evalue": "invalid syntax. Maybe you meant '==' or ':=' instead of '='? (1735894589.py, line 2)",
     "output_type": "error",
     "traceback": [
      "\u001b[0;36m  Cell \u001b[0;32mIn[51], line 2\u001b[0;36m\u001b[0m\n\u001b[0;31m    if retries = 0:\u001b[0m\n\u001b[0m       ^\u001b[0m\n\u001b[0;31mSyntaxError\u001b[0m\u001b[0;31m:\u001b[0m invalid syntax. Maybe you meant '==' or ':=' instead of '='?\n"
     ]
    }
   ],
   "source": [
    "def getWithRety(dataFunc,retries = 20):\n",
    "    if retries == 0:\n",
    "        return 'Failed'\n",
    "    return dataFunc() or getWithRetry(dataFunc, retries = retries - 1)"
   ]
  },
  {
   "cell_type": "code",
   "execution_count": 50,
   "id": "35c67d99",
   "metadata": {},
   "outputs": [
    {
     "data": {
      "text/plain": [
       "'Data received: 50% chance'"
      ]
     },
     "execution_count": 50,
     "metadata": {},
     "output_type": "execute_result"
    }
   ],
   "source": [
    "getWithRetry(getData50)"
   ]
  },
  {
   "cell_type": "code",
   "execution_count": 48,
   "id": "f13e2a59",
   "metadata": {},
   "outputs": [
    {
     "data": {
      "text/plain": [
       "'Failed'"
      ]
     },
     "execution_count": 48,
     "metadata": {},
     "output_type": "execute_result"
    }
   ],
   "source": [
    "getWithRetry(getData25)"
   ]
  },
  {
   "cell_type": "code",
   "execution_count": 49,
   "id": "12b8d5f4",
   "metadata": {},
   "outputs": [
    {
     "data": {
      "text/plain": [
       "'Failed'"
      ]
     },
     "execution_count": 49,
     "metadata": {},
     "output_type": "execute_result"
    }
   ],
   "source": [
    "getWithRetry(getData10)"
   ]
  }
 ],
 "metadata": {
  "kernelspec": {
   "display_name": "Python 3 (ipykernel)",
   "language": "python",
   "name": "python3"
  },
  "language_info": {
   "codemirror_mode": {
    "name": "ipython",
    "version": 3
   },
   "file_extension": ".py",
   "mimetype": "text/x-python",
   "name": "python",
   "nbconvert_exporter": "python",
   "pygments_lexer": "ipython3",
   "version": "3.11.1"
  }
 },
 "nbformat": 4,
 "nbformat_minor": 5
}
