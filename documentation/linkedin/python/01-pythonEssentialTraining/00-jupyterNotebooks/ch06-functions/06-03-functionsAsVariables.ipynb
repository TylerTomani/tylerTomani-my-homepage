{
 "cells": [
  {
   "cell_type": "code",
   "execution_count": 95,
   "id": "908997c1",
   "metadata": {},
   "outputs": [],
   "source": [
    "text = '''\n",
    "Beautiful is better than ugly.\n",
    "Explicit is better than implicit.\n",
    "Simple is better than complex.\n",
    "Complex is better than complicated.\n",
    "Flat is better than nested.\n",
    "Sparse is better than dense.\n",
    "Readability counts.\n",
    "Special cases aren't special enough to break the rules.\n",
    "Although practicality beats purity.\n",
    "Errors should never pass silently.\n",
    "Unless explicitly silenced.\n",
    "In the face of ambiguity, refuse the temptation to guess.\n",
    "There should be one-- and preferably only one --obvious way to do it.\n",
    "Although that way may not be obvious at first unless you're Dutch.\n",
    "Now is better than never.\n",
    "Although never is often better than *right* now.\n",
    "If the implementation is hard to explain, it's a bad idea.\n",
    "If the implementation is easy to explain, it may be a good idea.\n",
    "Namespaces are one honking great idea -- let's do more of those!\n",
    "'''"
   ]
  },
  {
   "cell_type": "code",
   "execution_count": 68,
   "id": "16a49601",
   "metadata": {},
   "outputs": [],
   "source": [
    "def lowerCase(txt):\n",
    "    return txt.lower()"
   ]
  },
  {
   "cell_type": "code",
   "execution_count": 101,
   "id": "ec8e6040",
   "metadata": {},
   "outputs": [],
   "source": [
    "def removePunctuations(txt):\n",
    "    punctuations = ['.','-',',','*']\n",
    "    for punctuation in punctuations:\n",
    "        txt = txt.replace(punctuation,'')\n",
    "    return txt"
   ]
  },
  {
   "cell_type": "code",
   "execution_count": 100,
   "id": "d318f3e2",
   "metadata": {},
   "outputs": [],
   "source": [
    "def removeNewLines(txt):\n",
    "    return txt.replace('\\n','')"
   ]
  },
  {
   "cell_type": "code",
   "execution_count": 75,
   "id": "8f47f519",
   "metadata": {},
   "outputs": [],
   "source": [
    "def removeShortWords(txt):\n",
    "    return ' '.join([word for word in txt.split() if len(word) > 9])"
   ]
  },
  {
   "cell_type": "code",
   "execution_count": 76,
   "id": "6105bc80",
   "metadata": {},
   "outputs": [],
   "source": [
    "def removeLongWord(txt):\n",
    "    return ' '.join([word for word in txt.split() if len(word) < 5])"
   ]
  },
  {
   "cell_type": "code",
   "execution_count": 102,
   "id": "9829ed6d",
   "metadata": {},
   "outputs": [
    {
     "name": "stdout",
     "output_type": "stream",
     "text": [
      "complicated. Readability practicality explicitly ambiguity, temptation preferably implementation implementation Namespaces\n"
     ]
    }
   ],
   "source": [
    "processingFunctions = [ removePunctuations, removeNewLines, removeShortWords]\n",
    "\n",
    "for func in processingFunctions:\n",
    "    newText = func(text)\n",
    "print(newText)"
   ]
  }
 ],
 "metadata": {
  "kernelspec": {
   "display_name": "Python 3 (ipykernel)",
   "language": "python",
   "name": "python3"
  },
  "language_info": {
   "codemirror_mode": {
    "name": "ipython",
    "version": 3
   },
   "file_extension": ".py",
   "mimetype": "text/x-python",
   "name": "python",
   "nbconvert_exporter": "python",
   "pygments_lexer": "ipython3",
   "version": "3.11.1"
  }
 },
 "nbformat": 4,
 "nbformat_minor": 5
}
