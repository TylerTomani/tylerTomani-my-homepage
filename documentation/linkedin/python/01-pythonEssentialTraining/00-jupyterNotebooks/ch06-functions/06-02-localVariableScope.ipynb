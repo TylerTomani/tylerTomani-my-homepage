{
 "cells": [
  {
   "cell_type": "markdown",
   "id": "a8018a05",
   "metadata": {},
   "source": [
    "## globals()"
   ]
  },
  {
   "cell_type": "code",
   "execution_count": 4,
   "id": "68f15507",
   "metadata": {},
   "outputs": [
    {
     "data": {
      "text/plain": [
       "{'__name__': '__main__',\n",
       " '__doc__': 'Automatically created module for IPython interactive environment',\n",
       " '__package__': None,\n",
       " '__loader__': None,\n",
       " '__spec__': None,\n",
       " '__builtin__': <module 'builtins' (built-in)>,\n",
       " '__builtins__': <module 'builtins' (built-in)>,\n",
       " '_ih': ['',\n",
       "  \"def performOperation(*args,**kwargs):\\n    print(locals())\\nperformOperation(1,2,operation='multiply')\",\n",
       "  \"def performOperation(num1, num2, operation = 'sum'):\\n    print(locals())\\nperformOperation(1,2,operation='multiply')\",\n",
       "  \"def performOperation(num1,num2,operation = 'sum'):\\n    print(locals())\\nperformOperation(1,2,operation = 'multiply')\",\n",
       "  'globals()'],\n",
       " '_oh': {},\n",
       " '_dh': [PosixPath('/Users/tylertomani/Desktop/websites/linkedinLearning/learning-paths/gettingStartedWithPython/01-pythonEssentialTraining/00-jupyterNotebooks')],\n",
       " 'In': ['',\n",
       "  \"def performOperation(*args,**kwargs):\\n    print(locals())\\nperformOperation(1,2,operation='multiply')\",\n",
       "  \"def performOperation(num1, num2, operation = 'sum'):\\n    print(locals())\\nperformOperation(1,2,operation='multiply')\",\n",
       "  \"def performOperation(num1,num2,operation = 'sum'):\\n    print(locals())\\nperformOperation(1,2,operation = 'multiply')\",\n",
       "  'globals()'],\n",
       " 'Out': {},\n",
       " 'get_ipython': <bound method InteractiveShell.get_ipython of <ipykernel.zmqshell.ZMQInteractiveShell object at 0x10d0f5790>>,\n",
       " 'exit': <IPython.core.autocall.ZMQExitAutocall at 0x10d110810>,\n",
       " 'quit': <IPython.core.autocall.ZMQExitAutocall at 0x10d110810>,\n",
       " 'open': <function io.open(file, mode='r', buffering=-1, encoding=None, errors=None, newline=None, closefd=True, opener=None)>,\n",
       " '_': '',\n",
       " '__': '',\n",
       " '___': '',\n",
       " '_i': \"def performOperation(num1,num2,operation = 'sum'):\\n    print(locals())\\nperformOperation(1,2,operation = 'multiply')\",\n",
       " '_ii': \"def performOperation(num1, num2, operation = 'sum'):\\n    print(locals())\\nperformOperation(1,2,operation='multiply')\",\n",
       " '_iii': \"def performOperation(*args,**kwargs):\\n    print(locals())\\nperformOperation(1,2,operation='multiply')\",\n",
       " '_i1': \"def performOperation(*args,**kwargs):\\n    print(locals())\\nperformOperation(1,2,operation='multiply')\",\n",
       " 'performOperation': <function __main__.performOperation(num1, num2, operation='sum')>,\n",
       " '_i2': \"def performOperation(num1, num2, operation = 'sum'):\\n    print(locals())\\nperformOperation(1,2,operation='multiply')\",\n",
       " '_i3': \"def performOperation(num1,num2,operation = 'sum'):\\n    print(locals())\\nperformOperation(1,2,operation = 'multiply')\",\n",
       " '_i4': 'globals()'}"
      ]
     },
     "execution_count": 4,
     "metadata": {},
     "output_type": "execute_result"
    }
   ],
   "source": [
    "globals()"
   ]
  },
  {
   "cell_type": "markdown",
   "id": "f6c03fd0",
   "metadata": {},
   "source": [
    "## locals()"
   ]
  },
  {
   "cell_type": "code",
   "execution_count": 3,
   "id": "ab86f488",
   "metadata": {},
   "outputs": [
    {
     "name": "stdout",
     "output_type": "stream",
     "text": [
      "{'num1': 1, 'num2': 2, 'operation': 'multiply'}\n"
     ]
    }
   ],
   "source": [
    "def performOperation(num1,num2,operation = 'sum'):\n",
    "    print(locals())\n",
    "performOperation(1,2,operation = 'multiply')"
   ]
  }
 ],
 "metadata": {
  "kernelspec": {
   "display_name": "Python 3 (ipykernel)",
   "language": "python",
   "name": "python3"
  },
  "language_info": {
   "codemirror_mode": {
    "name": "ipython",
    "version": 3
   },
   "file_extension": ".py",
   "mimetype": "text/x-python",
   "name": "python",
   "nbconvert_exporter": "python",
   "pygments_lexer": "ipython3",
   "version": "3.11.1"
  }
 },
 "nbformat": 4,
 "nbformat_minor": 5
}
