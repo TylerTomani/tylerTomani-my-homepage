{
 "cells": [
  {
   "cell_type": "markdown",
   "id": "d4464771",
   "metadata": {},
   "source": [
    "## Finding Primes with ** .5 square root + 1"
   ]
  },
  {
   "cell_type": "markdown",
   "id": "18f70640",
   "metadata": {},
   "source": [
    "I don't quiet get how this works but it is very usefule"
   ]
  },
  {
   "cell_type": "code",
   "execution_count": 17,
   "id": "a41ea679",
   "metadata": {},
   "outputs": [
    {
     "name": "stdout",
     "output_type": "stream",
     "text": [
      "2 is prime\n",
      "3 is prime\n",
      "5 is prime\n",
      "7 is prime\n",
      "11 is prime\n",
      "13 is prime\n",
      "17 is prime\n",
      "19 is prime\n",
      "23 is prime\n",
      "29 is prime\n",
      "31 is prime\n",
      "37 is prime\n",
      "41 is prime\n",
      "43 is prime\n",
      "47 is prime\n"
     ]
    }
   ],
   "source": [
    "for num in range(2,50):\n",
    "    for factor in range(2, int(num ** 0.5) + 1):\n",
    "        if num % factor == 0:\n",
    "            break\n",
    "    else:\n",
    "        print(f'{num} is prime')"
   ]
  },
  {
   "cell_type": "code",
   "execution_count": 15,
   "id": "ca0fcf57",
   "metadata": {},
   "outputs": [
    {
     "name": "stdout",
     "output_type": "stream",
     "text": [
      "found 2 animals: ['aardvark', 'antelope']\n"
     ]
    }
   ],
   "source": [
    "animalDict = {\n",
    "    'a': ['aardvark','antelope'],\n",
    "    'b': ['bear'],\n",
    "    'c': ['cat'],\n",
    "    'd': ['dog']\n",
    "}\n",
    "for letter,animals in animalDict.items():\n",
    "    if len(animals) > 1:\n",
    "        print(f'found {len(animals)} animals: {animals}')\n",
    "        break"
   ]
  },
  {
   "cell_type": "code",
   "execution_count": 6,
   "id": "81486956",
   "metadata": {},
   "outputs": [
    {
     "name": "stdout",
     "output_type": "stream",
     "text": [
      "only one animal : ['bear']\n",
      "only one animal : ['cat']\n",
      "only one animal : ['dog']\n"
     ]
    }
   ],
   "source": [
    "animalDict = {\n",
    "'a': ['aardvark','antelope'],\n",
    "'b': ['bear'],\n",
    "'c': ['cat'],\n",
    "'d': ['dog']\n",
    "}\n",
    "for letter,animals in animalDict.items():\n",
    "    if len(animals) > 1:\n",
    "        continue\n",
    "    print(f'only one animal : {animals}')\n",
    "\n",
    "                "
   ]
  },
  {
   "cell_type": "code",
   "execution_count": 1,
   "id": "610142d9",
   "metadata": {},
   "outputs": [
    {
     "name": "stdout",
     "output_type": "stream",
     "text": [
      "1\n",
      "2\n",
      "3\n",
      "4\n"
     ]
    }
   ],
   "source": [
    "myList = [1,2,3,4]\n",
    "for item in myList:\n",
    "    print(item)"
   ]
  }
 ],
 "metadata": {
  "kernelspec": {
   "display_name": "Python 3 (ipykernel)",
   "language": "python",
   "name": "python3"
  },
  "language_info": {
   "codemirror_mode": {
    "name": "ipython",
    "version": 3
   },
   "file_extension": ".py",
   "mimetype": "text/x-python",
   "name": "python",
   "nbconvert_exporter": "python",
   "pygments_lexer": "ipython3",
   "version": "3.11.1"
  }
 },
 "nbformat": 4,
 "nbformat_minor": 5
}
