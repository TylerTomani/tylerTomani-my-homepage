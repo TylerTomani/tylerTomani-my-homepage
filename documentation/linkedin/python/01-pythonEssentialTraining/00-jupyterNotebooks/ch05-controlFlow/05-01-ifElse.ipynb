{
 "cells": [
  {
   "cell_type": "code",
   "execution_count": 48,
   "id": "a82c87e8",
   "metadata": {},
   "outputs": [
    {
     "name": "stdout",
     "output_type": "stream",
     "text": [
      "[1, 2, 'fizz', 4, 'buzz', 'fizz', 7, 8, 'fizz', 'buzz', 11, 'fizz', 13, 14, 'fizzbuzz', 16, 17, 'fizz', 19, 'buzz', 'fizz', 22, 23, 'fizz', 'buzz', 26, 'fizz', 28, 29, 'fizzbuzz', 31, 32, 'fizz', 34, 'buzz', 'fizz', 37, 38, 'fizz', 'buzz', 41, 'fizz', 43, 44, 'fizzbuzz', 46, 47, 'fizz', 49, 'buzz']\n"
     ]
    }
   ],
   "source": [
    "fizzList = ['fizzbuzz' if n % 15 == 0 else 'buzz' if n % 5 == 0 else 'fizz' if n % 3 == 0 else n for n in range(1,51)]\n",
    "print(fizzList)"
   ]
  },
  {
   "cell_type": "code",
   "execution_count": 42,
   "id": "d966f492",
   "metadata": {},
   "outputs": [
    {
     "name": "stdout",
     "output_type": "stream",
     "text": [
      " 'fizz' \n"
     ]
    }
   ],
   "source": [
    "n = 5\n",
    "print(' \\'fizz\\' ' if n % 5 == 0 else n)"
   ]
  },
  {
   "cell_type": "code",
   "execution_count": 40,
   "id": "8b24e36e",
   "metadata": {},
   "outputs": [
    {
     "name": "stdout",
     "output_type": "stream",
     "text": [
      "Even\n",
      "fizz\n",
      "Even\n",
      "buzz\n",
      "fizz\n",
      "Even\n",
      "Even\n",
      "fizz\n",
      "buzz\n",
      "Even\n",
      "fizz\n",
      "Even\n",
      "Even\n",
      "fizzbuzz\n",
      "Even\n",
      "fizz\n",
      "Even\n",
      "buzz\n",
      "Even\n",
      "fizz\n",
      "Even\n",
      "fizz\n",
      "Even\n",
      "buzz\n",
      "Even\n",
      "fizz\n",
      "Even\n",
      "fizzbuzz\n",
      "Even\n",
      "Even\n",
      "fizz\n",
      "Even\n",
      "buzz\n",
      "fizz\n",
      "Even\n",
      "Even\n",
      "fizz\n",
      "buzz\n",
      "Even\n",
      "fizz\n",
      "Even\n",
      "Even\n",
      "fizzbuzz\n",
      "Even\n",
      "fizz\n",
      "Even\n"
     ]
    }
   ],
   "source": [
    "for n in range(1,50):\n",
    "    if n % 15 == 0:\n",
    "        print('fizzbuzz')\n",
    "    elif n % 5 == 0:\n",
    "        print('buzz')\n",
    "    elif n % 3 == 0:\n",
    "        print('fizz')\n",
    "    if n % 2 == 0:\n",
    "        print('Even')\n",
    "    "
   ]
  },
  {
   "cell_type": "code",
   "execution_count": 34,
   "id": "50826e7f",
   "metadata": {},
   "outputs": [
    {
     "name": "stdout",
     "output_type": "stream",
     "text": [
      "1\n",
      "2\n",
      "fizz\n",
      "3\n",
      "4\n",
      "buzz\n",
      "5\n",
      "fizz\n",
      "6\n",
      "7\n",
      "8\n",
      "fizz\n",
      "9\n",
      "buzz\n",
      "10\n",
      "11\n",
      "fizz\n",
      "12\n",
      "13\n",
      "14\n",
      "fizzbuzz\n",
      "15\n",
      "16\n",
      "17\n",
      "fizz\n",
      "18\n",
      "19\n",
      "buzz\n",
      "20\n",
      "fizz\n",
      "21\n",
      "22\n",
      "23\n",
      "fizz\n",
      "24\n",
      "buzz\n",
      "25\n",
      "26\n",
      "fizz\n",
      "27\n",
      "28\n",
      "29\n",
      "fizzbuzz\n",
      "30\n",
      "31\n",
      "32\n",
      "fizz\n",
      "33\n",
      "34\n",
      "buzz\n",
      "35\n",
      "fizz\n",
      "36\n",
      "37\n",
      "38\n",
      "fizz\n",
      "39\n",
      "buzz\n",
      "40\n",
      "41\n",
      "fizz\n",
      "42\n",
      "43\n",
      "44\n",
      "fizzbuzz\n",
      "45\n",
      "46\n",
      "47\n",
      "fizz\n",
      "48\n",
      "49\n",
      "buzz\n",
      "50\n",
      "fizz\n",
      "51\n",
      "52\n",
      "53\n",
      "fizz\n",
      "54\n",
      "buzz\n",
      "55\n",
      "56\n",
      "fizz\n",
      "57\n",
      "58\n",
      "59\n",
      "fizzbuzz\n",
      "60\n",
      "61\n",
      "62\n",
      "fizz\n",
      "63\n",
      "64\n",
      "buzz\n",
      "65\n",
      "fizz\n",
      "66\n",
      "67\n",
      "68\n",
      "fizz\n",
      "69\n",
      "buzz\n",
      "70\n",
      "71\n",
      "fizz\n",
      "72\n",
      "73\n",
      "74\n",
      "fizzbuzz\n",
      "75\n",
      "76\n",
      "77\n",
      "fizz\n",
      "78\n",
      "79\n",
      "buzz\n",
      "80\n",
      "fizz\n",
      "81\n",
      "82\n",
      "83\n",
      "fizz\n",
      "84\n",
      "buzz\n",
      "85\n",
      "86\n",
      "fizz\n",
      "87\n",
      "88\n",
      "89\n",
      "fizzbuzz\n",
      "90\n",
      "91\n",
      "92\n",
      "fizz\n",
      "93\n",
      "94\n",
      "buzz\n",
      "95\n",
      "fizz\n",
      "96\n",
      "97\n",
      "98\n",
      "fizz\n",
      "99\n",
      "buzz\n",
      "100\n"
     ]
    }
   ],
   "source": [
    "for n in range(1,101):\n",
    "    if n % 15 == 0:\n",
    "        print('fizzbuzz')\n",
    "    elif n % 5 == 0:\n",
    "        print('buzz')\n",
    "    elif n % 3 == 0:\n",
    "        print('fizz')\n",
    "    print(n)"
   ]
  },
  {
   "cell_type": "code",
   "execution_count": 31,
   "id": "4fb85a38",
   "metadata": {},
   "outputs": [
    {
     "name": "stdout",
     "output_type": "stream",
     "text": [
      "1\n",
      "2\n",
      "fizz\n",
      "4\n",
      "buzz\n",
      "fizz\n",
      "7\n",
      "8\n",
      "fizz\n",
      "buzz\n",
      "11\n",
      "fizz\n",
      "13\n",
      "14\n",
      "fizz\n",
      "16\n",
      "17\n",
      "fizz\n",
      "19\n",
      "buzz\n",
      "fizz\n",
      "22\n",
      "23\n",
      "fizz\n",
      "buzz\n",
      "26\n",
      "fizz\n",
      "28\n",
      "29\n",
      "fizz\n",
      "31\n",
      "32\n",
      "fizz\n",
      "34\n",
      "buzz\n",
      "fizz\n",
      "37\n",
      "38\n",
      "fizz\n",
      "buzz\n",
      "41\n",
      "fizz\n",
      "43\n",
      "44\n",
      "fizz\n",
      "46\n",
      "47\n",
      "fizz\n",
      "49\n"
     ]
    }
   ],
   "source": [
    "for n in range(1,50):\n",
    "    if n % 3 == 0:\n",
    "        print('fizz')\n",
    "    else:\n",
    "        if n % 5 == 0:\n",
    "            print('buzz')\n",
    "        else:\n",
    "            if n % 15 == 0:\n",
    "                print('fizzbuzz')\n",
    "            else:\n",
    "                print(n)\n",
    "    "
   ]
  },
  {
   "cell_type": "code",
   "execution_count": 4,
   "id": "425a5fad",
   "metadata": {},
   "outputs": [],
   "source": [
    "n = 3"
   ]
  },
  {
   "cell_type": "code",
   "execution_count": 5,
   "id": "ea95c4f2",
   "metadata": {},
   "outputs": [
    {
     "name": "stdout",
     "output_type": "stream",
     "text": [
      "fizz\n"
     ]
    }
   ],
   "source": [
    "if n % 3 == 0:\n",
    "    print('fizz')\n",
    "    if n % 5 == 0:\n",
    "        print('buzz')\n",
    "        if n % 15 == 0:\n",
    "            print('fizzbuzz')"
   ]
  },
  {
   "cell_type": "code",
   "execution_count": 21,
   "id": "bff70605",
   "metadata": {},
   "outputs": [
    {
     "ename": "SyntaxError",
     "evalue": "expected 'else' after 'if' expression (3027928408.py, line 2)",
     "output_type": "error",
     "traceback": [
      "\u001b[0;36m  Cell \u001b[0;32mIn[21], line 2\u001b[0;36m\u001b[0m\n\u001b[0;31m    num = 'fizzbuzz' if n % 15 == 0 else 'buzz' if n % 5 == 0  else 'fizz' if n % 3 == 0\u001b[0m\n\u001b[0m                                                                    ^\u001b[0m\n\u001b[0;31mSyntaxError\u001b[0m\u001b[0;31m:\u001b[0m expected 'else' after 'if' expression\n"
     ]
    }
   ],
   "source": [
    "n = 3\n",
    "num = 'fizzbuzz' if n % 15 == 0 else 'buzz' if n % 5 == 0  else 'fizz' if n % 3 == 0 \n",
    "else n\n",
    "    "
   ]
  }
 ],
 "metadata": {
  "kernelspec": {
   "display_name": "Python 3 (ipykernel)",
   "language": "python",
   "name": "python3"
  },
  "language_info": {
   "codemirror_mode": {
    "name": "ipython",
    "version": 3
   },
   "file_extension": ".py",
   "mimetype": "text/x-python",
   "name": "python",
   "nbconvert_exporter": "python",
   "pygments_lexer": "ipython3",
   "version": "3.11.1"
  }
 },
 "nbformat": 4,
 "nbformat_minor": 5
}
